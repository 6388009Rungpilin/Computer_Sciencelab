{
  "cells": [
    {
      "cell_type": "markdown",
      "metadata": {
        "id": "nBqPAXCBwp4n"
      },
      "source": [
        "# Exercise: Training a fully-connected deep learning model for CIFAR10\n",
        "\n",
        "1. Prepare environment\n",
        "1. Prepare dataset\n",
        "1. Create a model\n",
        "  * You are restricted to use only fully-connected (i.e., `nn.Linear`) layers in the model.\n",
        "1. Specify loss\n",
        "1. Specify optimizer\n",
        "1. Develop a training loop\n",
        "1. Develop a prediction code\n",
        "1. Training a model\n",
        "  1. For each batch of the trainign set\n",
        "    1. Make predictions\n",
        "    1. Compute loss\n",
        "    1. Backpropagation\n",
        "  1. At the end of each epoch\n",
        "    1. Evaluate on the validation set\n",
        "    1. Save model weight if achive the best performance on the validation set\n",
        "1. Plot a learning curve (underfitting vs overfitting)\n",
        "  * Please justify and provide supporting evidences (e.g., graph) whether your model is \"underfitting\", \"overfitting\" or \"just right\".\n",
        "1. Evaluate on the test set\n",
        "\n",
        "**Note**\n",
        "* Please use the CIFAR10 data from here ([link](https://pytorch.org/vision/main/generated/torchvision.datasets.CIFAR10.html))\n",
        "* You can reuse most of the code from the training a simple deep learning model in Pytorch notebook."
      ]
    },
    {
      "cell_type": "markdown",
      "metadata": {
        "id": "liFoFvZhJw9S"
      },
      "source": [
        "# **Prepare environment**"
      ]
    },
    {
      "cell_type": "code",
      "execution_count": null,
      "metadata": {
        "id": "tTI9P0SdEcjx"
      },
      "outputs": [
        {
          "ename": "",
          "evalue": "",
          "output_type": "error",
          "traceback": [
            "\u001b[1;31mRunning cells with 'Python 3.11.1 64-bit' requires ipykernel package.\n",
            "\u001b[1;31mRun the following command to install 'ipykernel' into the Python environment. \n",
            "\u001b[1;31mCommand: '/usr/local/bin/python3 -m pip install ipykernel -U --user --force-reinstall'"
          ]
        }
      ],
      "source": [
        "import numpy as np\n",
        "import torch\n",
        "import torchvision.transforms as T\n",
        "import torch.nn.functional as F\n",
        "from torch import nn\n",
        "from torch.utils.data import DataLoader, Subset\n",
        "from torchvision import datasets\n",
        "\n",
        "# Stratified split\n",
        "from sklearn.model_selection import train_test_split\n",
        "\n",
        "# PyTorch TensorBoard support\n",
        "from torch.utils.tensorboard import SummaryWriter\n",
        "from datetime import datetime\n",
        "\n",
        "import matplotlib\n",
        "import matplotlib.pyplot as plt\n",
        "font = {'size' : 18}\n",
        "matplotlib.rc('font', **font)"
      ]
    },
    {
      "cell_type": "markdown",
      "metadata": {
        "id": "Lk1VEDTtJ2L7"
      },
      "source": [
        "# Prepare dataset"
      ]
    },
    {
      "cell_type": "code",
      "execution_count": null,
      "metadata": {
        "colab": {
          "base_uri": "https://localhost:8080/",
          "height": 100,
          "referenced_widgets": [
            "eb248e5e77d14221b86a745a5cc15f72",
            "359b79397eee4084b48146ab0429fbd6",
            "64bfd4d045a1473f83aec387910461a2",
            "a1bce69a4db74e6fae4402ad19dd43ca",
            "133f7b606e5849cc9586f3ea01d21caf",
            "98628834b35046afadbc2e96e9997e76",
            "8c3f2b0485ee415786c69d570b4f8492",
            "08bfa6119ebd4a0cbee6aa8650b6eaaf",
            "a20b6a03992447ecbb24e71bcb50ee86",
            "298bf5ed76804495a22d6efc27ea0a5b",
            "57381c5d1fbd4989924be8622a449aa1"
          ]
        },
        "id": "MYgbvpYLEm93",
        "outputId": "35b9b2c3-e37b-4aae-b37f-babb5fc0bacd"
      },
      "outputs": [
        {
          "ename": "",
          "evalue": "",
          "output_type": "error",
          "traceback": [
            "\u001b[1;31mRunning cells with 'Python 3.11.1 64-bit' requires ipykernel package.\n",
            "\u001b[1;31mRun the following command to install 'ipykernel' into the Python environment. \n",
            "\u001b[1;31mCommand: '/usr/local/bin/python3 -m pip install ipykernel -U --user --force-reinstall'"
          ]
        }
      ],
      "source": [
        "# Download training data from open datasets.\n",
        "train_ds = datasets.CIFAR10(\n",
        "    root=\"./data\",\n",
        "    train=True,\n",
        "    download=True,\n",
        "    transform=T.ToTensor(),\n",
        ")\n",
        "\n",
        "# Download test data from open datasets.\n",
        "test_ds = datasets.CIFAR10(\n",
        "    root=\"./data\",\n",
        "    train=False,\n",
        "    download=True,\n",
        "    transform=T.ToTensor(),\n",
        ")\n",
        "\n",
        "# Preparing for validaion test\n",
        "train_indices, valid_indices, _, _ = train_test_split(\n",
        "    range(len(train_ds)),\n",
        "    train_ds.targets,\n",
        "    test_size=10000\n",
        ")\n",
        "valid_ds = Subset(train_ds, valid_indices)\n",
        "train_ds = Subset(train_ds, train_indices)\n",
        "\n",
        "# Create data loaders\n",
        "batch_size = 64\n",
        "train_dl = DataLoader(train_ds, batch_size=batch_size, shuffle=True)\n",
        "valid_dl = DataLoader(valid_ds, batch_size=batch_size, shuffle=False)\n",
        "test_dl = DataLoader(test_ds, batch_size=batch_size, shuffle=False)\n",
        "\n",
        "# Class mapping\n",
        "classes = [\n",
        "    \"airplane\",\n",
        "    \"automobile\",\n",
        "    \"bird\",\n",
        "    \"cat\",\n",
        "    \"deer\",\n",
        "    \"dog\",\n",
        "    \"frog\",\n",
        "    \"horse\",\n",
        "    \"ship\",\n",
        "    \"truck\",\n",
        "]\n",
        "\n"
      ]
    },
    {
      "cell_type": "code",
      "execution_count": null,
      "metadata": {
        "colab": {
          "base_uri": "https://localhost:8080/"
        },
        "id": "zH60tQ0WSKvw",
        "outputId": "809384aa-4f58-478b-e279-ae04d2698b0d"
      },
      "outputs": [
        {
          "ename": "",
          "evalue": "",
          "output_type": "error",
          "traceback": [
            "\u001b[1;31mRunning cells with 'Python 3.11.1 64-bit' requires ipykernel package.\n",
            "\u001b[1;31mRun the following command to install 'ipykernel' into the Python environment. \n",
            "\u001b[1;31mCommand: '/usr/local/bin/python3 -m pip install ipykernel -U --user --force-reinstall'"
          ]
        }
      ],
      "source": [
        "# Report split sizes\n",
        "print(f'Training set: {len(train_ds)} examples')\n",
        "print(f'Validation set: {len(valid_ds)} examples')\n",
        "print(f'Test set: {len(test_ds)} examples')\n",
        "\n",
        "# Get one batch of data\n",
        "for batch in train_dl:\n",
        "    imgs, lbls = batch\n",
        "    break\n",
        "\n",
        "print(imgs.shape)\n",
        "print(lbls.shape)"
      ]
    },
    {
      "cell_type": "code",
      "execution_count": null,
      "metadata": {
        "colab": {
          "base_uri": "https://localhost:8080/",
          "height": 433
        },
        "id": "NyxkN7oXSNcX",
        "outputId": "48953f6d-da14-4470-bbf4-7cabbd2647fe"
      },
      "outputs": [
        {
          "ename": "",
          "evalue": "",
          "output_type": "error",
          "traceback": [
            "\u001b[1;31mRunning cells with 'Python 3.11.1 64-bit' requires ipykernel package.\n",
            "\u001b[1;31mRun the following command to install 'ipykernel' into the Python environment. \n",
            "\u001b[1;31mCommand: '/usr/local/bin/python3 -m pip install ipykernel -U --user --force-reinstall'"
          ]
        }
      ],
      "source": [
        "figure = plt.figure(figsize=(7, 7))\n",
        "cols, rows = 3, 3\n",
        "for i in range(1, cols * rows + 1):\n",
        "    sample_idx = torch.randint(len(imgs), size=(1,)).item()\n",
        "    img, label = imgs[sample_idx], lbls[sample_idx]\n",
        "    figure.add_subplot(rows, cols, i)\n",
        "    plt.title(classes[label])\n",
        "    plt.axis(\"off\")\n",
        "    plt.imshow(img.numpy().transpose(1,2,0))\n",
        "plt.show()"
      ]
    },
    {
      "cell_type": "markdown",
      "metadata": {
        "id": "HO6_kXmcJ5rA"
      },
      "source": [
        "# Create a Model"
      ]
    },
    {
      "cell_type": "code",
      "execution_count": null,
      "metadata": {
        "colab": {
          "base_uri": "https://localhost:8080/"
        },
        "id": "c8Au7jouIlMX",
        "outputId": "37efe965-9f63-4522-e89b-ae0a667e31d4"
      },
      "outputs": [
        {
          "ename": "",
          "evalue": "",
          "output_type": "error",
          "traceback": [
            "\u001b[1;31mRunning cells with 'Python 3.11.1 64-bit' requires ipykernel package.\n",
            "\u001b[1;31mRun the following command to install 'ipykernel' into the Python environment. \n",
            "\u001b[1;31mCommand: '/usr/local/bin/python3 -m pip install ipykernel -U --user --force-reinstall'"
          ]
        }
      ],
      "source": [
        "# Get cpu or gpu device for training.\n",
        "device = \"cuda\" if torch.cuda.is_available() else \"cpu\"\n",
        "print(f\"Using {device} device\")\n",
        "\n",
        "# Define model\n",
        "class NeuralNetwork(nn.Module):\n",
        "    def __init__(self):\n",
        "        super().__init__()\n",
        "        self.flatten = nn.Flatten()\n",
        "        self.linear_relu_stack = nn.Sequential(\n",
        "            nn.Linear(32*32*3, 512),\n",
        "            nn.ReLU(),\n",
        "            nn.Linear(512, 512),\n",
        "            nn.ReLU(),\n",
        "            nn.Linear(512, 10)\n",
        "        )\n",
        "\n",
        "    def forward(self, x):\n",
        "        x = self.flatten(x)\n",
        "        logits = self.linear_relu_stack(x)\n",
        "        return logits\n",
        "\n",
        "model = NeuralNetwork().to(device)\n",
        "print(model)"
      ]
    },
    {
      "cell_type": "markdown",
      "metadata": {
        "id": "vSu0XLtNKB2S"
      },
      "source": [
        "# Specify Loss"
      ]
    },
    {
      "cell_type": "code",
      "execution_count": null,
      "metadata": {
        "id": "GOkt6SauJJiV"
      },
      "outputs": [
        {
          "ename": "",
          "evalue": "",
          "output_type": "error",
          "traceback": [
            "\u001b[1;31mRunning cells with 'Python 3.11.1 64-bit' requires ipykernel package.\n",
            "\u001b[1;31mRun the following command to install 'ipykernel' into the Python environment. \n",
            "\u001b[1;31mCommand: '/usr/local/bin/python3 -m pip install ipykernel -U --user --force-reinstall'"
          ]
        }
      ],
      "source": [
        "# Specify loss\n",
        "# Note: Make sure to check the following when choosing the loss\n",
        "#   1. the label format of each loss (one-hot, ordinal, etc.)\n",
        "#   2. classification or regression\n",
        "loss_fn = nn.CrossEntropyLoss()"
      ]
    },
    {
      "cell_type": "markdown",
      "metadata": {
        "id": "OPgMQZHeKGUU"
      },
      "source": [
        "# Specify optimizer"
      ]
    },
    {
      "cell_type": "code",
      "execution_count": 7,
      "metadata": {
        "id": "EgL2IlCaJesZ"
      },
      "outputs": [],
      "source": [
        "# Specify optimizer\n",
        "# e.g., SGD, Adam, RMSProp, etc.\n",
        "optimizer = torch.optim.Adam(model.parameters(), lr=1e-3)"
      ]
    },
    {
      "cell_type": "markdown",
      "metadata": {
        "id": "Yf7Dhrc9KKBX"
      },
      "source": [
        "# Develop a training loop"
      ]
    },
    {
      "cell_type": "code",
      "execution_count": 8,
      "metadata": {
        "id": "qnHqBKJqJtfS"
      },
      "outputs": [],
      "source": [
        "def train_one_epoch(dataloader, model, loss_fn, optimizer):\n",
        "    # Size of the dataset\n",
        "    size = len(dataloader.dataset)\n",
        "\n",
        "    # Training mode\n",
        "    model.train()\n",
        "\n",
        "    # Keep track of the loss\n",
        "    running_loss = 0.\n",
        "    last_loss = 0.\n",
        "\n",
        "    # We use enumerate to track the batch index\n",
        "    for i, batch in enumerate(dataloader):\n",
        "        X, y = batch\n",
        "        X, y = X.to(device), y.to(device)\n",
        "\n",
        "        # Prediction\n",
        "        pred = model(X)\n",
        "\n",
        "        # Compute loss\n",
        "        loss = loss_fn(pred, y)\n",
        "\n",
        "        # Backpropagation\n",
        "        optimizer.zero_grad()  # zeros the optimizer's gradient\n",
        "        loss.backward()  # calculate the backward gradients\n",
        "        optimizer.step()  # adjust model's weights based on the observed gradients\n",
        "\n",
        "        # Keep track of the loss\n",
        "        running_loss += loss.item()\n",
        "        if (i+1) % 50 == 0:\n",
        "            last_loss = running_loss / 50\n",
        "            current = (i + 1) * len(X)\n",
        "            print(f\"loss: {last_loss:>7f}  [{current:>5d}/{size:>5d}]\")\n",
        "            running_loss = 0."
      ]
    },
    {
      "cell_type": "markdown",
      "metadata": {
        "id": "NpsTptADKTv8"
      },
      "source": [
        "# Develop a prediction code"
      ]
    },
    {
      "cell_type": "code",
      "execution_count": 9,
      "metadata": {
        "id": "kK-XJ5l6KVmS"
      },
      "outputs": [],
      "source": [
        "def test(dataloader, model, loss_fn):\n",
        "    size = len(dataloader.dataset)\n",
        "    num_batches = len(dataloader)\n",
        "\n",
        "    # Test mode\n",
        "    model.eval()\n",
        "\n",
        "    # Predict on test set\n",
        "    loss, correct = 0, 0\n",
        "    with torch.no_grad():\n",
        "        for X, y in dataloader:\n",
        "            X, y = X.to(device), y.to(device)\n",
        "            # Prediction\n",
        "            pred = model(X)\n",
        "            y_pred = pred.argmax(1)\n",
        "            # Compute loss\n",
        "            loss += loss_fn(pred, y).item()\n",
        "            # Correct predictions\n",
        "            correct += (y_pred == y).type(torch.float).sum().item()\n",
        "\n",
        "    # Average loss\n",
        "    loss /= num_batches\n",
        "\n",
        "    # Accuracy\n",
        "    accuracy = correct / size\n",
        "\n",
        "    return loss, accuracy"
      ]
    },
    {
      "cell_type": "markdown",
      "metadata": {
        "id": "EGta_xzTKZoP"
      },
      "source": [
        "# Training a model"
      ]
    },
    {
      "cell_type": "code",
      "execution_count": 10,
      "metadata": {
        "id": "mosCYUUGKbes"
      },
      "outputs": [],
      "source": [
        "##For each batch of the trainign set\n",
        "####Make predictions\n",
        "####Compute loss\n",
        "####Backpropagation\n",
        "\n",
        "\n",
        "##At the end of each epoch\n",
        "####Evaluate on the validation set\n",
        "####Save model weight if achive the best performance on the validation set"
      ]
    },
    {
      "cell_type": "code",
      "execution_count": 11,
      "metadata": {
        "colab": {
          "base_uri": "https://localhost:8080/"
        },
        "id": "sYd8WqaDM9vc",
        "outputId": "3d9b99f9-8150-4f17-d12a-b3b1a7f9e378"
      },
      "outputs": [
        {
          "name": "stdout",
          "output_type": "stream",
          "text": [
            "Epoch 1\n",
            "-------------------------------\n",
            "loss: 2.189295  [ 3200/40000]\n",
            "loss: 2.022544  [ 6400/40000]\n",
            "loss: 1.911562  [ 9600/40000]\n",
            "loss: 1.896319  [12800/40000]\n",
            "loss: 1.871569  [16000/40000]\n",
            "loss: 1.890938  [19200/40000]\n",
            "loss: 1.815062  [22400/40000]\n",
            "loss: 1.840309  [25600/40000]\n",
            "loss: 1.820010  [28800/40000]\n",
            "loss: 1.786816  [32000/40000]\n",
            "loss: 1.734925  [35200/40000]\n",
            "loss: 1.756535  [38400/40000]\n",
            "Saved best model to model_best_vloss.pth\n",
            "Epoch 2\n",
            "-------------------------------\n",
            "loss: 1.727775  [ 3200/40000]\n",
            "loss: 1.742074  [ 6400/40000]\n",
            "loss: 1.683649  [ 9600/40000]\n",
            "loss: 1.727178  [12800/40000]\n",
            "loss: 1.653927  [16000/40000]\n",
            "loss: 1.678023  [19200/40000]\n",
            "loss: 1.691747  [22400/40000]\n",
            "loss: 1.712941  [25600/40000]\n",
            "loss: 1.713288  [28800/40000]\n",
            "loss: 1.683091  [32000/40000]\n",
            "loss: 1.647083  [35200/40000]\n",
            "loss: 1.636172  [38400/40000]\n",
            "Saved best model to model_best_vloss.pth\n",
            "Epoch 3\n",
            "-------------------------------\n",
            "loss: 1.615548  [ 3200/40000]\n",
            "loss: 1.619326  [ 6400/40000]\n",
            "loss: 1.647010  [ 9600/40000]\n",
            "loss: 1.613111  [12800/40000]\n",
            "loss: 1.608985  [16000/40000]\n",
            "loss: 1.638352  [19200/40000]\n",
            "loss: 1.575898  [22400/40000]\n",
            "loss: 1.602280  [25600/40000]\n",
            "loss: 1.560061  [28800/40000]\n",
            "loss: 1.590962  [32000/40000]\n",
            "loss: 1.579686  [35200/40000]\n",
            "loss: 1.587505  [38400/40000]\n",
            "Saved best model to model_best_vloss.pth\n",
            "Epoch 4\n",
            "-------------------------------\n",
            "loss: 1.538557  [ 3200/40000]\n",
            "loss: 1.534033  [ 6400/40000]\n",
            "loss: 1.586292  [ 9600/40000]\n",
            "loss: 1.523775  [12800/40000]\n",
            "loss: 1.562182  [16000/40000]\n",
            "loss: 1.534356  [19200/40000]\n",
            "loss: 1.605287  [22400/40000]\n",
            "loss: 1.530629  [25600/40000]\n",
            "loss: 1.529210  [28800/40000]\n",
            "loss: 1.548670  [32000/40000]\n",
            "loss: 1.524829  [35200/40000]\n",
            "loss: 1.506843  [38400/40000]\n",
            "Saved best model to model_best_vloss.pth\n",
            "Epoch 5\n",
            "-------------------------------\n",
            "loss: 1.496945  [ 3200/40000]\n",
            "loss: 1.535080  [ 6400/40000]\n",
            "loss: 1.488549  [ 9600/40000]\n",
            "loss: 1.505148  [12800/40000]\n",
            "loss: 1.520554  [16000/40000]\n",
            "loss: 1.525703  [19200/40000]\n",
            "loss: 1.481130  [22400/40000]\n",
            "loss: 1.504085  [25600/40000]\n",
            "loss: 1.481616  [28800/40000]\n",
            "loss: 1.492610  [32000/40000]\n",
            "loss: 1.489126  [35200/40000]\n",
            "loss: 1.458895  [38400/40000]\n",
            "Epoch 6\n",
            "-------------------------------\n",
            "loss: 1.471809  [ 3200/40000]\n",
            "loss: 1.457072  [ 6400/40000]\n",
            "loss: 1.493180  [ 9600/40000]\n",
            "loss: 1.467685  [12800/40000]\n",
            "loss: 1.455682  [16000/40000]\n",
            "loss: 1.469975  [19200/40000]\n",
            "loss: 1.458505  [22400/40000]\n",
            "loss: 1.464065  [25600/40000]\n",
            "loss: 1.458325  [28800/40000]\n",
            "loss: 1.445658  [32000/40000]\n",
            "loss: 1.471915  [35200/40000]\n",
            "loss: 1.453690  [38400/40000]\n",
            "Saved best model to model_best_vloss.pth\n",
            "Epoch 7\n",
            "-------------------------------\n",
            "loss: 1.425525  [ 3200/40000]\n",
            "loss: 1.414505  [ 6400/40000]\n",
            "loss: 1.374634  [ 9600/40000]\n",
            "loss: 1.421441  [12800/40000]\n",
            "loss: 1.426956  [16000/40000]\n",
            "loss: 1.443326  [19200/40000]\n",
            "loss: 1.445368  [22400/40000]\n",
            "loss: 1.451784  [25600/40000]\n",
            "loss: 1.470907  [28800/40000]\n",
            "loss: 1.442310  [32000/40000]\n",
            "loss: 1.421114  [35200/40000]\n",
            "loss: 1.441859  [38400/40000]\n",
            "Epoch 8\n",
            "-------------------------------\n",
            "loss: 1.407685  [ 3200/40000]\n",
            "loss: 1.423479  [ 6400/40000]\n",
            "loss: 1.410735  [ 9600/40000]\n",
            "loss: 1.394915  [12800/40000]\n",
            "loss: 1.393746  [16000/40000]\n",
            "loss: 1.372219  [19200/40000]\n",
            "loss: 1.398177  [22400/40000]\n",
            "loss: 1.386602  [25600/40000]\n",
            "loss: 1.392975  [28800/40000]\n",
            "loss: 1.409416  [32000/40000]\n",
            "loss: 1.412934  [35200/40000]\n",
            "loss: 1.434066  [38400/40000]\n",
            "Epoch 9\n",
            "-------------------------------\n",
            "loss: 1.379150  [ 3200/40000]\n",
            "loss: 1.337321  [ 6400/40000]\n",
            "loss: 1.388853  [ 9600/40000]\n",
            "loss: 1.386792  [12800/40000]\n",
            "loss: 1.363318  [16000/40000]\n",
            "loss: 1.373989  [19200/40000]\n",
            "loss: 1.385039  [22400/40000]\n",
            "loss: 1.368740  [25600/40000]\n",
            "loss: 1.425812  [28800/40000]\n",
            "loss: 1.370709  [32000/40000]\n",
            "loss: 1.341406  [35200/40000]\n",
            "loss: 1.371363  [38400/40000]\n",
            "Epoch 10\n",
            "-------------------------------\n",
            "loss: 1.338040  [ 3200/40000]\n",
            "loss: 1.347852  [ 6400/40000]\n",
            "loss: 1.372014  [ 9600/40000]\n",
            "loss: 1.313470  [12800/40000]\n",
            "loss: 1.368925  [16000/40000]\n",
            "loss: 1.339562  [19200/40000]\n",
            "loss: 1.337868  [22400/40000]\n",
            "loss: 1.358944  [25600/40000]\n",
            "loss: 1.373271  [28800/40000]\n",
            "loss: 1.355645  [32000/40000]\n",
            "loss: 1.338224  [35200/40000]\n",
            "loss: 1.356509  [38400/40000]\n",
            "Saved best model to model_best_vloss.pth\n",
            "Epoch 11\n",
            "-------------------------------\n",
            "loss: 1.324092  [ 3200/40000]\n",
            "loss: 1.319949  [ 6400/40000]\n",
            "loss: 1.347757  [ 9600/40000]\n",
            "loss: 1.276636  [12800/40000]\n",
            "loss: 1.319556  [16000/40000]\n",
            "loss: 1.290830  [19200/40000]\n",
            "loss: 1.335502  [22400/40000]\n",
            "loss: 1.295988  [25600/40000]\n",
            "loss: 1.369024  [28800/40000]\n",
            "loss: 1.372563  [32000/40000]\n",
            "loss: 1.353870  [35200/40000]\n",
            "loss: 1.277777  [38400/40000]\n",
            "Epoch 12\n",
            "-------------------------------\n",
            "loss: 1.282946  [ 3200/40000]\n",
            "loss: 1.268373  [ 6400/40000]\n",
            "loss: 1.282043  [ 9600/40000]\n",
            "loss: 1.309985  [12800/40000]\n",
            "loss: 1.320411  [16000/40000]\n",
            "loss: 1.278110  [19200/40000]\n",
            "loss: 1.307588  [22400/40000]\n",
            "loss: 1.291438  [25600/40000]\n",
            "loss: 1.317802  [28800/40000]\n",
            "loss: 1.313160  [32000/40000]\n",
            "loss: 1.349817  [35200/40000]\n",
            "loss: 1.294043  [38400/40000]\n",
            "Epoch 13\n",
            "-------------------------------\n",
            "loss: 1.277462  [ 3200/40000]\n",
            "loss: 1.247453  [ 6400/40000]\n",
            "loss: 1.308710  [ 9600/40000]\n",
            "loss: 1.264188  [12800/40000]\n",
            "loss: 1.263044  [16000/40000]\n",
            "loss: 1.291209  [19200/40000]\n",
            "loss: 1.325149  [22400/40000]\n",
            "loss: 1.265794  [25600/40000]\n",
            "loss: 1.280344  [28800/40000]\n",
            "loss: 1.270597  [32000/40000]\n",
            "loss: 1.273113  [35200/40000]\n",
            "loss: 1.288232  [38400/40000]\n",
            "Saved best model to model_best_vloss.pth\n",
            "Epoch 14\n",
            "-------------------------------\n",
            "loss: 1.229193  [ 3200/40000]\n",
            "loss: 1.225631  [ 6400/40000]\n",
            "loss: 1.223148  [ 9600/40000]\n",
            "loss: 1.226254  [12800/40000]\n",
            "loss: 1.261267  [16000/40000]\n",
            "loss: 1.268384  [19200/40000]\n",
            "loss: 1.250610  [22400/40000]\n",
            "loss: 1.283617  [25600/40000]\n",
            "loss: 1.260941  [28800/40000]\n",
            "loss: 1.251322  [32000/40000]\n",
            "loss: 1.274825  [35200/40000]\n",
            "loss: 1.295474  [38400/40000]\n",
            "Epoch 15\n",
            "-------------------------------\n",
            "loss: 1.244714  [ 3200/40000]\n",
            "loss: 1.213475  [ 6400/40000]\n",
            "loss: 1.236664  [ 9600/40000]\n",
            "loss: 1.281908  [12800/40000]\n",
            "loss: 1.253292  [16000/40000]\n",
            "loss: 1.224130  [19200/40000]\n",
            "loss: 1.230558  [22400/40000]\n",
            "loss: 1.213762  [25600/40000]\n",
            "loss: 1.232509  [28800/40000]\n",
            "loss: 1.254247  [32000/40000]\n",
            "loss: 1.260396  [35200/40000]\n",
            "loss: 1.251050  [38400/40000]\n",
            "Done!\n"
          ]
        }
      ],
      "source": [
        "epochs = 15\n",
        "best_vloss = 100000.\n",
        "hist = {\n",
        "    'train_loss': [],\n",
        "    'train_acc': [],\n",
        "    'val_loss': [],\n",
        "    'val_acc': [],\n",
        "}\n",
        "\n",
        "for epoch in range(epochs):\n",
        "    print(f\"Epoch {epoch+1}\\n-------------------------------\")\n",
        "    train_one_epoch(train_dl, model, loss_fn, optimizer)\n",
        "    train_loss, train_acc = test(train_dl, model, loss_fn)\n",
        "    val_loss, val_acc = test(valid_dl, model, loss_fn)\n",
        "\n",
        "    # History for learning curve\n",
        "    hist['train_loss'].append(train_loss)\n",
        "    hist['train_acc'].append(train_acc)\n",
        "    hist['val_loss'].append(val_loss)\n",
        "    hist['val_acc'].append(val_acc)\n",
        "\n",
        "    # Track best performance, and save the model's state\n",
        "    if val_loss < best_vloss:\n",
        "        best_vloss = val_loss\n",
        "        torch.save(model.state_dict(), 'model_best_vloss.pth')\n",
        "        print('Saved best model to model_best_vloss.pth')\n",
        "print(\"Done!\")"
      ]
    },
    {
      "cell_type": "markdown",
      "metadata": {
        "id": "qGzKm_XMKet4"
      },
      "source": [
        "# Plot a learning curve (underfitting vs overfitting)"
      ]
    },
    {
      "cell_type": "code",
      "execution_count": 12,
      "metadata": {
        "id": "WKYYk-jhKgyF"
      },
      "outputs": [],
      "source": [
        "##Please justify and provide supporting evidences (e.g., graph) \n",
        "##whether your model is \"underfitting\", \"overfitting\" or \"just right\"."
      ]
    },
    {
      "cell_type": "code",
      "execution_count": 13,
      "metadata": {
        "colab": {
          "base_uri": "https://localhost:8080/",
          "height": 791
        },
        "id": "jmQQuDFXNApY",
        "outputId": "fe23b345-2eb9-4350-f28d-2c88e5510cec"
      },
      "outputs": [
        {
          "data": {
            "image/png": "[encoded data removed]",
            "text/plain": [
              "<Figure size 576x432 with 1 Axes>"
            ]
          },
          "metadata": {
            "needs_background": "light"
          },
          "output_type": "display_data"
        },
        {
          "data": {
            "image/png": "[encoded data removed]",
            "text/plain": [
              "<Figure size 576x432 with 1 Axes>"
            ]
          },
          "metadata": {
            "needs_background": "light"
          },
          "output_type": "display_data"
        }
      ],
      "source": [
        "fig, ax = plt.subplots(figsize=(8,6))\n",
        "ax.plot(hist['train_loss'], label='train')\n",
        "ax.plot(hist['val_loss'], label='valid')\n",
        "ax.set_ylabel('Loss')\n",
        "ax.set_xlabel('Epochs')\n",
        "plt.legend()\n",
        "plt.show()\n",
        "\n",
        "fig, ax = plt.subplots(figsize=(8,6))\n",
        "ax.plot(hist['train_acc'], label='train')\n",
        "ax.plot(hist['val_acc'], label='valid')\n",
        "ax.set_ylabel('Accuracy')\n",
        "ax.set_xlabel('Epochs')\n",
        "plt.legend()\n",
        "plt.show()\n",
        "\n",
        "plt.close('all')"
      ]
    },
    {
      "cell_type": "code",
      "execution_count": 14,
      "metadata": {
        "colab": {
          "base_uri": "https://localhost:8080/"
        },
        "id": "DfbLO19SNDBA",
        "outputId": "25aa1926-fe1b-456e-a8df-997c68f3c0e0"
      },
      "outputs": [
        {
          "data": {
            "text/plain": [
              "<All keys matched successfully>"
            ]
          },
          "execution_count": 14,
          "metadata": {},
          "output_type": "execute_result"
        }
      ],
      "source": [
        "model_best = NeuralNetwork().to(device)\n",
        "model_best.load_state_dict(torch.load(\"model_best_vloss.pth\"))"
      ]
    },
    {
      "cell_type": "markdown",
      "metadata": {
        "id": "gEdvYibPKj0h"
      },
      "source": [
        "# Evaluate on the test set"
      ]
    },
    {
      "cell_type": "code",
      "execution_count": 15,
      "metadata": {
        "colab": {
          "base_uri": "https://localhost:8080/"
        },
        "id": "sOuFoVKuKliw",
        "outputId": "b71099f1-1dfc-43eb-d06b-159aa9ab8897"
      },
      "outputs": [
        {
          "name": "stdout",
          "output_type": "stream",
          "text": [
            "Predicted: \"cat\", Actual: \"cat\"\n"
          ]
        }
      ],
      "source": [
        "model_best.eval()\n",
        "\n",
        "# Get one batch of data\n",
        "for batch in test_dl:\n",
        "    imgs, lbls = batch\n",
        "    break\n",
        "\n",
        "X, y = imgs[0:1].to(device), lbls[0:1].to(device)\n",
        "with torch.no_grad():\n",
        "    pred = model_best(X)\n",
        "    predicted, actual = classes[pred[0].argmax(0)], classes[y]\n",
        "    print(f'Predicted: \"{predicted}\", Actual: \"{actual}\"')"
      ]
    },
    {
      "cell_type": "code",
      "execution_count": 16,
      "metadata": {
        "colab": {
          "base_uri": "https://localhost:8080/"
        },
        "id": "6GCmMVpQMzw7",
        "outputId": "536aaceb-6245-420e-c5a7-ad6bcd534f56"
      },
      "outputs": [
        {
          "name": "stdout",
          "output_type": "stream",
          "text": [
            "Test: loss=1.429985, acc=49.9%\n"
          ]
        }
      ],
      "source": [
        "# Use the best model on the validation set\n",
        "test_loss, test_acc = test(test_dl, model_best, loss_fn)\n",
        "print(f\"Test: loss={test_loss:>8f}, acc={(100*test_acc):>0.1f}%\")"
      ]
    },
    {
      "cell_type": "code",
      "execution_count": 17,
      "metadata": {
        "colab": {
          "base_uri": "https://localhost:8080/"
        },
        "id": "b4BgOdhJM1pS",
        "outputId": "a3c8063b-5ffa-4fff-896a-3c737b639089"
      },
      "outputs": [
        {
          "name": "stdout",
          "output_type": "stream",
          "text": [
            "Test: loss=1.432837, acc=49.7%\n"
          ]
        }
      ],
      "source": [
        "# Use the latest model\n",
        "# Note: the latest model might be different from the best on validation set\n",
        "test_loss, test_acc = test(test_dl, model, loss_fn)\n",
        "print(f\"Test: loss={test_loss:>8f}, acc={(100*test_acc):>0.1f}%\")"
      ]
    }
  ],
  "metadata": {
    "accelerator": "GPU",
    "colab": {
      "provenance": []
    },
    "gpuClass": "standard",
    "kernelspec": {
      "display_name": "Python 3.11.1 64-bit",
      "language": "python",
      "name": "python3"
    },
    "language_info": {
      "name": "python",
      "version": "3.11.1"
    },
    "vscode": {
      "interpreter": {
        "hash": "aee8b7b246df8f9039afb4144a1f6fd8d2ca17a180786b69acc140d282b71a49"
      }
    },
    "widgets": {
      "application/vnd.jupyter.widget-state+json": {
        "08bfa6119ebd4a0cbee6aa8650b6eaaf": {
          "model_module": "@jupyter-widgets/base",
          "model_module_version": "1.2.0",
          "model_name": "LayoutModel",
          "state": {
            "_model_module": "@jupyter-widgets/base",
            "_model_module_version": "1.2.0",
            "_model_name": "LayoutModel",
            "_view_count": null,
            "_view_module": "@jupyter-widgets/base",
            "_view_module_version": "1.2.0",
            "_view_name": "LayoutView",
            "align_content": null,
            "align_items": null,
            "align_self": null,
            "border": null,
            "bottom": null,
            "display": null,
            "flex": null,
            "flex_flow": null,
            "grid_area": null,
            "grid_auto_columns": null,
            "grid_auto_flow": null,
            "grid_auto_rows": null,
            "grid_column": null,
            "grid_gap": null,
            "grid_row": null,
            "grid_template_areas": null,
            "grid_template_columns": null,
            "grid_template_rows": null,
            "height": null,
            "justify_content": null,
            "justify_items": null,
            "left": null,
            "margin": null,
            "max_height": null,
            "max_width": null,
            "min_height": null,
            "min_width": null,
            "object_fit": null,
            "object_position": null,
            "order": null,
            "overflow": null,
            "overflow_x": null,
            "overflow_y": null,
            "padding": null,
            "right": null,
            "top": null,
            "visibility": null,
            "width": null
          }
        },
        "133f7b606e5849cc9586f3ea01d21caf": {
          "model_module": "@jupyter-widgets/base",
          "model_module_version": "1.2.0",
          "model_name": "LayoutModel",
          "state": {
            "_model_module": "@jupyter-widgets/base",
            "_model_module_version": "1.2.0",
            "_model_name": "LayoutModel",
            "_view_count": null,
            "_view_module": "@jupyter-widgets/base",
            "_view_module_version": "1.2.0",
            "_view_name": "LayoutView",
            "align_content": null,
            "align_items": null,
            "align_self": null,
            "border": null,
            "bottom": null,
            "display": null,
            "flex": null,
            "flex_flow": null,
            "grid_area": null,
            "grid_auto_columns": null,
            "grid_auto_flow": null,
            "grid_auto_rows": null,
            "grid_column": null,
            "grid_gap": null,
            "grid_row": null,
            "grid_template_areas": null,
            "grid_template_columns": null,
            "grid_template_rows": null,
            "height": null,
            "justify_content": null,
            "justify_items": null,
            "left": null,
            "margin": null,
            "max_height": null,
            "max_width": null,
            "min_height": null,
            "min_width": null,
            "object_fit": null,
            "object_position": null,
            "order": null,
            "overflow": null,
            "overflow_x": null,
            "overflow_y": null,
            "padding": null,
            "right": null,
            "top": null,
            "visibility": null,
            "width": null
          }
        },
        "298bf5ed76804495a22d6efc27ea0a5b": {
          "model_module": "@jupyter-widgets/base",
          "model_module_version": "1.2.0",
          "model_name": "LayoutModel",
          "state": {
            "_model_module": "@jupyter-widgets/base",
            "_model_module_version": "1.2.0",
            "_model_name": "LayoutModel",
            "_view_count": null,
            "_view_module": "@jupyter-widgets/base",
            "_view_module_version": "1.2.0",
            "_view_name": "LayoutView",
            "align_content": null,
            "align_items": null,
            "align_self": null,
            "border": null,
            "bottom": null,
            "display": null,
            "flex": null,
            "flex_flow": null,
            "grid_area": null,
            "grid_auto_columns": null,
            "grid_auto_flow": null,
            "grid_auto_rows": null,
            "grid_column": null,
            "grid_gap": null,
            "grid_row": null,
            "grid_template_areas": null,
            "grid_template_columns": null,
            "grid_template_rows": null,
            "height": null,
            "justify_content": null,
            "justify_items": null,
            "left": null,
            "margin": null,
            "max_height": null,
            "max_width": null,
            "min_height": null,
            "min_width": null,
            "object_fit": null,
            "object_position": null,
            "order": null,
            "overflow": null,
            "overflow_x": null,
            "overflow_y": null,
            "padding": null,
            "right": null,
            "top": null,
            "visibility": null,
            "width": null
          }
        },
        "359b79397eee4084b48146ab0429fbd6": {
          "model_module": "@jupyter-widgets/controls",
          "model_module_version": "1.5.0",
          "model_name": "HTMLModel",
          "state": {
            "_dom_classes": [],
            "_model_module": "@jupyter-widgets/controls",
            "_model_module_version": "1.5.0",
            "_model_name": "HTMLModel",
            "_view_count": null,
            "_view_module": "@jupyter-widgets/controls",
            "_view_module_version": "1.5.0",
            "_view_name": "HTMLView",
            "description": "",
            "description_tooltip": null,
            "layout": "IPY_MODEL_98628834b35046afadbc2e96e9997e76",
            "placeholder": "​",
            "style": "IPY_MODEL_8c3f2b0485ee415786c69d570b4f8492",
            "value": "100%"
          }
        },
        "57381c5d1fbd4989924be8622a449aa1": {
          "model_module": "@jupyter-widgets/controls",
          "model_module_version": "1.5.0",
          "model_name": "DescriptionStyleModel",
          "state": {
            "_model_module": "@jupyter-widgets/controls",
            "_model_module_version": "1.5.0",
            "_model_name": "DescriptionStyleModel",
            "_view_count": null,
            "_view_module": "@jupyter-widgets/base",
            "_view_module_version": "1.2.0",
            "_view_name": "StyleView",
            "description_width": ""
          }
        },
        "64bfd4d045a1473f83aec387910461a2": {
          "model_module": "@jupyter-widgets/controls",
          "model_module_version": "1.5.0",
          "model_name": "FloatProgressModel",
          "state": {
            "_dom_classes": [],
            "_model_module": "@jupyter-widgets/controls",
            "_model_module_version": "1.5.0",
            "_model_name": "FloatProgressModel",
            "_view_count": null,
            "_view_module": "@jupyter-widgets/controls",
            "_view_module_version": "1.5.0",
            "_view_name": "ProgressView",
            "bar_style": "success",
            "description": "",
            "description_tooltip": null,
            "layout": "IPY_MODEL_08bfa6119ebd4a0cbee6aa8650b6eaaf",
            "max": 170498071,
            "min": 0,
            "orientation": "horizontal",
            "style": "IPY_MODEL_a20b6a03992447ecbb24e71bcb50ee86",
            "value": 170498071
          }
        },
        "8c3f2b0485ee415786c69d570b4f8492": {
          "model_module": "@jupyter-widgets/controls",
          "model_module_version": "1.5.0",
          "model_name": "DescriptionStyleModel",
          "state": {
            "_model_module": "@jupyter-widgets/controls",
            "_model_module_version": "1.5.0",
            "_model_name": "DescriptionStyleModel",
            "_view_count": null,
            "_view_module": "@jupyter-widgets/base",
            "_view_module_version": "1.2.0",
            "_view_name": "StyleView",
            "description_width": ""
          }
        },
        "98628834b35046afadbc2e96e9997e76": {
          "model_module": "@jupyter-widgets/base",
          "model_module_version": "1.2.0",
          "model_name": "LayoutModel",
          "state": {
            "_model_module": "@jupyter-widgets/base",
            "_model_module_version": "1.2.0",
            "_model_name": "LayoutModel",
            "_view_count": null,
            "_view_module": "@jupyter-widgets/base",
            "_view_module_version": "1.2.0",
            "_view_name": "LayoutView",
            "align_content": null,
            "align_items": null,
            "align_self": null,
            "border": null,
            "bottom": null,
            "display": null,
            "flex": null,
            "flex_flow": null,
            "grid_area": null,
            "grid_auto_columns": null,
            "grid_auto_flow": null,
            "grid_auto_rows": null,
            "grid_column": null,
            "grid_gap": null,
            "grid_row": null,
            "grid_template_areas": null,
            "grid_template_columns": null,
            "grid_template_rows": null,
            "height": null,
            "justify_content": null,
            "justify_items": null,
            "left": null,
            "margin": null,
            "max_height": null,
            "max_width": null,
            "min_height": null,
            "min_width": null,
            "object_fit": null,
            "object_position": null,
            "order": null,
            "overflow": null,
            "overflow_x": null,
            "overflow_y": null,
            "padding": null,
            "right": null,
            "top": null,
            "visibility": null,
            "width": null
          }
        },
        "a1bce69a4db74e6fae4402ad19dd43ca": {
          "model_module": "@jupyter-widgets/controls",
          "model_module_version": "1.5.0",
          "model_name": "HTMLModel",
          "state": {
            "_dom_classes": [],
            "_model_module": "@jupyter-widgets/controls",
            "_model_module_version": "1.5.0",
            "_model_name": "HTMLModel",
            "_view_count": null,
            "_view_module": "@jupyter-widgets/controls",
            "_view_module_version": "1.5.0",
            "_view_name": "HTMLView",
            "description": "",
            "description_tooltip": null,
            "layout": "IPY_MODEL_298bf5ed76804495a22d6efc27ea0a5b",
            "placeholder": "​",
            "style": "IPY_MODEL_57381c5d1fbd4989924be8622a449aa1",
            "value": " 170498071/170498071 [00:14&lt;00:00, 13578108.33it/s]"
          }
        },
        "a20b6a03992447ecbb24e71bcb50ee86": {
          "model_module": "@jupyter-widgets/controls",
          "model_module_version": "1.5.0",
          "model_name": "ProgressStyleModel",
          "state": {
            "_model_module": "@jupyter-widgets/controls",
            "_model_module_version": "1.5.0",
            "_model_name": "ProgressStyleModel",
            "_view_count": null,
            "_view_module": "@jupyter-widgets/base",
            "_view_module_version": "1.2.0",
            "_view_name": "StyleView",
            "bar_color": null,
            "description_width": ""
          }
        },
        "eb248e5e77d14221b86a745a5cc15f72": {
          "model_module": "@jupyter-widgets/controls",
          "model_module_version": "1.5.0",
          "model_name": "HBoxModel",
          "state": {
            "_dom_classes": [],
            "_model_module": "@jupyter-widgets/controls",
            "_model_module_version": "1.5.0",
            "_model_name": "HBoxModel",
            "_view_count": null,
            "_view_module": "@jupyter-widgets/controls",
            "_view_module_version": "1.5.0",
            "_view_name": "HBoxView",
            "box_style": "",
            "children": [
              "IPY_MODEL_359b79397eee4084b48146ab0429fbd6",
              "IPY_MODEL_64bfd4d045a1473f83aec387910461a2",
              "IPY_MODEL_a1bce69a4db74e6fae4402ad19dd43ca"
            ],
            "layout": "IPY_MODEL_133f7b606e5849cc9586f3ea01d21caf"
          }
        }
      }
    }
  },
  "nbformat": 4,
  "nbformat_minor": 0
}
