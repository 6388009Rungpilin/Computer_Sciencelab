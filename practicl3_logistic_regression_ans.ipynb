{
  "nbformat": 4,
  "nbformat_minor": 0,
  "metadata": {
    "colab": {
      "provenance": [],
      "collapsed_sections": [
        "4ldS9tqkuelI"
      ],
      "toc_visible": true
    },
    "kernelspec": {
      "name": "python3",
      "display_name": "Python 3"
    },
    "language_info": {
      "name": "python"
    }
  },
  "cells": [
    {
      "cell_type": "markdown",
      "source": [
        "# Prepare Environment"
      ],
      "metadata": {
        "id": "8oBxBa5-8T1e"
      }
    },
    {
      "cell_type": "code",
      "source": [
        "import numpy as np\n",
        "import math, copy\n",
        "import matplotlib\n",
        "import matplotlib.pyplot as plt\n",
        "\n",
        "font = {'size' : 18}\n",
        "matplotlib.rc('font', **font)\n",
        "\n",
        "np.set_printoptions(precision=3)  # reduced display precision on numpy arrays"
      ],
      "metadata": {
        "id": "QpIDfDff8SqA"
      },
      "execution_count": null,
      "outputs": []
    },
    {
      "cell_type": "markdown",
      "source": [
        "# Notation\n",
        "\n",
        "Here is a summary of some of the notation you will encounter, updated for multiple features.  \n",
        "\n",
        "|General <img width=70/> <br />  Notation  <img width=70/> | Description<img width=350/>| Python (if applicable) |\n",
        "|: ------------|: ------------------------------------------------------------||\n",
        "| $a$ | scalar, non bold                                                      ||\n",
        "| $\\mathbf{a}$ | vector, bold                                                 ||\n",
        "| $\\mathbf{A}$ | matrix, bold capital                                         ||\n",
        "| **Regression** |         |    |     |\n",
        "|  $\\mathbf{X}$ | training example maxtrix                  | `X` |   \n",
        "|  $\\mathbf{y}$  | training example  targets                | `y` \n",
        "|  $\\mathbf{x}^{(i)}$, $y^{(i)}$ | $i_{th}$ training Example | `X[i]`, `y[i]`|\n",
        "| m | number of training examples | `m`|\n",
        "| n | number of features in each example | `n`|\n",
        "|  $\\mathbf{w}$  |  parameter: weight,                       | `w`    |\n",
        "|  $b$           |  parameter: bias                                           | `b`    |     \n",
        "| $f_{\\mathbf{w},b}(\\mathbf{x}^{(i)})$ | The result of the model evaluation at $\\mathbf{x^{(i)}}$ parameterized by $\\mathbf{w},b$: $f_{\\mathbf{w},b}(\\mathbf{x}^{(i)}) = \\mathbf{w} \\cdot \\mathbf{x}^{(i)}+b$  | `f_wb` | \n",
        "|$\\frac{\\partial J(\\mathbf{w},b)}{\\partial w_j}$| the gradient or partial derivative of cost with respect to a parameter $w_j$ |`dj_dw[j]`| \n",
        "|$\\frac{\\partial J(\\mathbf{w},b)}{\\partial b}$| the gradient or partial derivative of cost with respect to a parameter $b$| `dj_db`|\n"
      ],
      "metadata": {
        "id": "wlWUePMK8ogi"
      }
    },
    {
      "cell_type": "markdown",
      "source": [
        "# Dataset\n",
        "\n",
        "You will use the dataset for student pass/fail prediction below in this exercise. The dataset contains 25 examples with three features (quiz, lab and midterm) shown in a table below.\n",
        "\n",
        "| **Quiz (25)** | **Lab (15)** | **Midterm (25)** | **Pass (0/1)** |\n",
        "|:--------:|:-------:|:-----------:|:--------:|\n",
        "|   18.0   |   14.7  |     15.0    |    1.0   |\n",
        "|    4.5   |   14.6  |     3.4     |    0.0   |\n",
        "|    8.7   |   14.1  |     4.1     |    0.0   |\n",
        "|    3.5   |   15.0  |     12.8    |    0.0   |\n",
        "|   12.0   |   13.7  |     13.4    |    1.0   |\n",
        "|   20.0   |   14.4  |     18.1    |    1.0   |\n",
        "|    8.0   |   6.4   |     8.4     |    0.0   |\n",
        "|    5.5   |   14.8  |     4.4     |    0.0   |\n",
        "|    2.6   |   6.5   |     1.3     |    0.0   |\n",
        "|    9.3   |   13.3  |     5.3     |    0.0   |\n",
        "|    9.2   |   14.6  |     20.3    |    1.0   |\n",
        "|   17.4   |   14.3  |     10.9    |    1.0   |\n",
        "|   14.4   |   15.0  |     19.1    |    1.0   |\n",
        "|    5.4   |   13.2  |     1.9     |    0.0   |\n",
        "|    0.5   |   7.2   |     0.0     |    0.0   |\n",
        "|    6.3   |   12.5  |     1.6     |    0.0   |\n",
        "|    6.2   |   13.2  |     5.6     |    0.0   |\n",
        "|   18.4   |   14.9  |     17.5    |    1.0   |\n",
        "|   19.4   |   15.0  |     20.6    |    1.0   |\n",
        "|   22.7   |   14.1  |     15.9    |    1.0   |\n",
        "|   24.1   |   15.0  |     25.0    |    1.0   |\n",
        "|    8.6   |   12.8  |     11.6    |    0.0   |\n",
        "|   17.9   |   14.8  |     12.5    |    1.0   |\n",
        "|   13.8   |   15.0  |     8.4     |    1.0   |\n",
        "|    5.2   |   14.3  |     1.6     |    0.0   |"
      ],
      "metadata": {
        "id": "SM5OypM68H91"
      }
    },
    {
      "cell_type": "code",
      "execution_count": null,
      "metadata": {
        "id": "bqlvIbBq6NFA"
      },
      "outputs": [],
      "source": [
        "X = np.array([\n",
        "    [18.0,14.7,15.0],\n",
        "    [4.5,14.6,3.4],\n",
        "    [8.7,14.1,4.1],\n",
        "    [3.5,15.0,12.8],\n",
        "    [12.0,13.7,13.4],\n",
        "    [20.0,14.4,18.1],\n",
        "    [8.0,6.4,8.4],\n",
        "    [5.5,14.8,4.4],\n",
        "    [2.6,6.5,1.3],\n",
        "    [9.3,13.3,5.3],\n",
        "    [9.2,14.6,20.3],\n",
        "    [17.4,14.3,10.9],\n",
        "    [14.4,15.0,19.1],\n",
        "    [5.4,13.2,1.9],\n",
        "    [0.5,7.2,0.0],\n",
        "    [6.3,12.5,1.6],\n",
        "    [6.2,13.2,5.6],\n",
        "    [18.4,14.9,17.5],\n",
        "    [19.4,15.0,20.6],\n",
        "    [22.7,14.1,15.9],\n",
        "    [24.1,15.0,25.0],\n",
        "    [8.6,12.8,11.6],\n",
        "    [17.9,14.8,12.5],\n",
        "    [13.8,15.0,8.4],\n",
        "    [5.2,14.3,1.6],\n",
        "])\n",
        "y = np.array([1,0,0,0,1,1,0,0,0,0,1,1,1,0,0,0,0,1,1,1,1,0,1,1,0])"
      ]
    },
    {
      "cell_type": "code",
      "source": [
        "X_features = ['Quiz','Lab','Midterm']\n",
        "n = X.shape[1]\n",
        "\n",
        "assert n == len(X_features)"
      ],
      "metadata": {
        "id": "7-2fbRaGkyAo"
      },
      "execution_count": null,
      "outputs": []
    },
    {
      "cell_type": "code",
      "source": [
        "# Display data is stored in numpy array/matrix\n",
        "print(f\"X Shape: {X.shape}, X Type:{type(X)})\")\n",
        "print(X[:10])\n",
        "print(f\"y Shape: {y.shape}, y Type:{type(y)})\")\n",
        "print(y[:10])"
      ],
      "metadata": {
        "id": "IjkKI0xbWJXY",
        "colab": {
          "base_uri": "https://localhost:8080/"
        },
        "outputId": "b7dd9f60-ebfa-456b-9bb6-5c66c5170331"
      },
      "execution_count": null,
      "outputs": [
        {
          "output_type": "stream",
          "name": "stdout",
          "text": [
            "X Shape: (25, 3), X Type:<class 'numpy.ndarray'>)\n",
            "[[18.  14.7 15. ]\n",
            " [ 4.5 14.6  3.4]\n",
            " [ 8.7 14.1  4.1]\n",
            " [ 3.5 15.  12.8]\n",
            " [12.  13.7 13.4]\n",
            " [20.  14.4 18.1]\n",
            " [ 8.   6.4  8.4]\n",
            " [ 5.5 14.8  4.4]\n",
            " [ 2.6  6.5  1.3]\n",
            " [ 9.3 13.3  5.3]]\n",
            "y Shape: (25,), y Type:<class 'numpy.ndarray'>)\n",
            "[1 0 0 0 1 1 0 0 0 0]\n"
          ]
        }
      ]
    },
    {
      "cell_type": "code",
      "source": [
        "fig, ax = plt.subplots(1, n, figsize=(16, 4), sharey=True)\n",
        "for i in range(len(ax)):\n",
        "    ax[i].scatter(X[:,i],y)\n",
        "    ax[i].grid(linestyle='--')\n",
        "    ax[i].set_xlabel(X_features[i])\n",
        "ax[0].set_ylabel(\"Final\")\n",
        "plt.show()\n",
        "plt.close('all')"
      ],
      "metadata": {
        "colab": {
          "base_uri": "https://localhost:8080/",
          "height": 295
        },
        "id": "-YTesWfP7x6y",
        "outputId": "f4656496-1a7f-4337-f700-a553baef8d64"
      },
      "execution_count": null,
      "outputs": [
        {
          "output_type": "display_data",
          "data": {
            "text/plain": [
              "<Figure size 1152x288 with 3 Axes>"
            ],
            "image/png": "[encoded data removed]"
          },
          "metadata": {
            "needs_background": "light"
          }
        }
      ]
    },
    {
      "cell_type": "markdown",
      "source": [
        "# Sigmoid Function\n",
        "\n",
        "![download.png](data:image/png;base64,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)\n",
        "\n",
        "Recall that for logistic regression, the model is represented as\n",
        "\n",
        "$$ f_{\\mathbf{w},b}(x) = g(\\mathbf{w}\\cdot \\mathbf{x} + b)$$\n",
        "where function $g$ is the sigmoid function. The sigmoid function is defined as:\n",
        "\n",
        "$$g(z) = \\frac{1}{1+e^{-z}}$$\n",
        "\n",
        "Let's implement the sigmoid function first, so it can be used by the rest of this assignment.\n",
        "\n",
        "Note that\n",
        "- In the case of a single example, $z$ is scalar.\n",
        "- in the case of multiple examples, $z$ may be a vector consisting of $m$ values, one for each example. \n",
        "- The implementation of the sigmoid function should cover both of these potential input formats.\n",
        "\n",
        "**Hint**: NumPy has a function called [`exp()`](https://numpy.org/doc/stable/reference/generated/numpy.exp.html), which offers a convenient way to calculate the exponential ( $e^{z}$) of all elements in the input array (`z`)."
      ],
      "metadata": {
        "id": "vNs2nZGKgpTw"
      }
    },
    {
      "cell_type": "code",
      "source": [
        "def sigmoid(z):\n",
        "    \"\"\"\n",
        "    Compute the sigmoid of z\n",
        "\n",
        "    Args:\n",
        "        z (ndarray): A scalar, numpy array of any size.\n",
        "    Returns:\n",
        "        g (ndarray): sigmoid(z), with the same shape as z\n",
        "    \"\"\"\n",
        "\n",
        "    # TODO: Implement sigmoid function\n",
        "    # g = # YOUR CODE HERE\n",
        "    g = 1 / (1+np.exp(-z))\n",
        "    return g"
      ],
      "metadata": {
        "id": "DphMZxbEXfXm"
      },
      "execution_count": null,
      "outputs": []
    },
    {
      "cell_type": "markdown",
      "source": [
        "Run the code below to check your code."
      ],
      "metadata": {
        "id": "EUEsYWFmssn8"
      }
    },
    {
      "cell_type": "code",
      "source": [
        "print(sigmoid(50))\n",
        "print(sigmoid(-50))\n",
        "print(sigmoid(0))\n",
        "print(sigmoid(np.array([-3, 3])))\n",
        "print(sigmoid(np.array([-1, 1])))"
      ],
      "metadata": {
        "colab": {
          "base_uri": "https://localhost:8080/"
        },
        "id": "g4uQq3Hvusx6",
        "outputId": "90990408-4dc3-4f58-81ec-9faa514f436d"
      },
      "execution_count": null,
      "outputs": [
        {
          "output_type": "stream",
          "name": "stdout",
          "text": [
            "1.0\n",
            "1.928749847963918e-22\n",
            "0.5\n",
            "[0.047 0.953]\n",
            "[0.269 0.731]\n"
          ]
        }
      ]
    },
    {
      "cell_type": "markdown",
      "source": [
        "**Expected outputs:**\n",
        "```\n",
        "1.0\n",
        "1.928749847963918e-22\n",
        "0.5\n",
        "[0.047 0.953]\n",
        "[0.269 0.731]\n",
        "```"
      ],
      "metadata": {
        "id": "ZnqS_yaevFEF"
      }
    },
    {
      "cell_type": "markdown",
      "source": [
        "# Logistic Regression"
      ],
      "metadata": {
        "id": "RP_RtToQsYhu"
      }
    },
    {
      "cell_type": "code",
      "source": [
        "def f_logis(x, w, b): \n",
        "    \"\"\"\n",
        "    Predict using logistic regression\n",
        "    Args:\n",
        "      x (ndarray): Shape (n,) example with multiple features\n",
        "      w (ndarray): Shape (n,) model parameters   \n",
        "      b (scalar):             model parameter \n",
        "      \n",
        "    Returns:\n",
        "      p (scalar):  prediction\n",
        "    \"\"\"\n",
        "    # TODO: Implement logistic regression (vectorized version)\n",
        "    # z = # YOUR CODE HERE\n",
        "    # p = # YOUR CODE HERE (You should use `sigmoid` function defined above)\n",
        "    z = np.dot(x, w) + b\n",
        "    p = sigmoid(z)\n",
        "    return p"
      ],
      "metadata": {
        "id": "EmPpeFu7g8RS"
      },
      "execution_count": null,
      "outputs": []
    },
    {
      "cell_type": "markdown",
      "source": [
        "Run the code below to check your code."
      ],
      "metadata": {
        "id": "W4jhH9hnslXb"
      }
    },
    {
      "cell_type": "code",
      "source": [
        "initial_w = np.array([0.01, 0.5, -0.1])\n",
        "initial_b = -5\n",
        "\n",
        "y_hat_single = f_logis(X[0], initial_w, initial_b)\n",
        "y_hat_vector = f_logis(X[2:5], initial_w, initial_b)\n",
        "\n",
        "print(f\"{y_hat_single=}\")\n",
        "print(f\"{y_hat_vector=}\")"
      ],
      "metadata": {
        "colab": {
          "base_uri": "https://localhost:8080/"
        },
        "id": "DxUow0cEs-TK",
        "outputId": "426493ea-b16b-405c-b2a9-ee332c4d1d21"
      },
      "execution_count": null,
      "outputs": [
        {
          "output_type": "stream",
          "name": "stdout",
          "text": [
            "y_hat_single=0.7369158958334202\n",
            "y_hat_vector=array([0.849, 0.778, 0.652])\n"
          ]
        }
      ]
    },
    {
      "cell_type": "markdown",
      "source": [
        "Expected outputs:\n",
        "```\n",
        "y_hat_single=0.7369158958334202\n",
        "y_hat_vector=array([0.849, 0.778, 0.652])\n",
        "```"
      ],
      "metadata": {
        "id": "J9FdSX1Kv510"
      }
    },
    {
      "cell_type": "markdown",
      "source": [
        "# Loss Function\n",
        "\n",
        "Recall that for logistic regression, the loss function is of the form \n",
        "\n",
        "$$ J(\\mathbf{w},b) = \\frac{1}{m} \\sum_{i=0}^{m-1} \\left[ L(f_{\\mathbf{w},b}(\\mathbf{x}^{(i)}), y^{(i)}) \\right] \\tag{1}$$\n",
        "\n",
        "where\n",
        "* $m$ is the number of training examples in the data set:\n",
        "* $L(f_{\\mathbf{w},b}(\\mathbf{x}^{(i)}), y^{(i)})$ is the loss for a single data point, which is:\n",
        "\n",
        "    $$L(f_{\\mathbf{w},b}(\\mathbf{x}^{(i)}), y^{(i)}) = -y^{(i)} \\log\\left(f_{\\mathbf{w},b}\\left( \\mathbf{x}^{(i)} \\right) \\right) - \\left( 1 - y^{(i)}\\right) \\log \\left( 1 - f_{\\mathbf{w},b}\\left( \\mathbf{x}^{(i)} \\right) \\right) \\tag{2}$$\n",
        "\n",
        "*  $f_{\\mathbf{w},b}(\\mathbf{x}^{(i)})$ is the model's prediction, while $y^{(i)}$, which is the actual label\n",
        "\n",
        "*  $f_{\\mathbf{w},b}(\\mathbf{x}^{(i)}) = g(\\mathbf{w} \\cdot \\mathbf{x^{(i)}} + b)$ where function $g$ is the sigmoid function.\n",
        "\n",
        "Note:\n",
        "* As you are doing this, remember that the variables `X` and `y` are not scalar values but matrices of shape ($m, n$) and ($𝑚$,1) respectively, where  $𝑛$ is the number of features and $𝑚$ is the number of training examples.\n",
        "* Please use the `f_logis` defined above to make prediction for each example.\n",
        "\n",
        "NumPy has a function called [`log()`](https://numpy.org/doc/stable/reference/generated/numpy.log.html), which offers a convenient way to calculate the natural logarithm of all elements in the input array."
      ],
      "metadata": {
        "id": "FBYs3lF-xKOA"
      }
    },
    {
      "cell_type": "code",
      "source": [
        "def compute_loss_logistic(X, y, w, b):\n",
        "    \"\"\"\n",
        "    Computes loss for logistic regression.\n",
        "\n",
        "    Args:\n",
        "      X (ndarray (m,n)): Data, m examples with n features\n",
        "      y (ndarray (m,)) : target values\n",
        "      w (ndarray (n,)) : model parameters  \n",
        "      b (scalar)       : model parameter\n",
        "      \n",
        "    Returns:\n",
        "      loss (scalar): loss\n",
        "    \"\"\"\n",
        "\n",
        "    m = X.shape[0]\n",
        "    loss = 0.0\n",
        "\n",
        "    ### START YOUR CODE HERE ###\n",
        "\n",
        "    # Hint: For each example, make prediction and then compute loss\n",
        "\n",
        "    for i in range(m):\n",
        "        # Make prediction\n",
        "        f_wb_i = f_logis(X[i], w, b)\n",
        "        # Compute the loss\n",
        "        loss += -y[i]*np.log(f_wb_i) - (1-y[i])*np.log(1-f_wb_i)\n",
        "    loss = loss / m\n",
        "\n",
        "    ### END YOUR CODE HERE ###\n",
        "    \n",
        "    return loss"
      ],
      "metadata": {
        "id": "88ftZ3EDxKHE"
      },
      "execution_count": null,
      "outputs": []
    },
    {
      "cell_type": "markdown",
      "source": [
        "Run the code below to check your code."
      ],
      "metadata": {
        "id": "TOoehip1sya8"
      }
    },
    {
      "cell_type": "code",
      "source": [
        "w_tmp = np.array([0.5,0.1,-0.4])\n",
        "b_tmp = -3\n",
        "print(compute_loss_logistic(X, y, w_tmp, b_tmp))\n",
        "w_tmp = np.array([-10,-10,10])\n",
        "b_tmp = 0\n",
        "print(compute_loss_logistic(X, y, w_tmp, b_tmp))\n",
        "w_tmp = np.zeros(X.shape[1])\n",
        "b_tmp = 0\n",
        "print(compute_loss_logistic(X, y, w_tmp, b_tmp))"
      ],
      "metadata": {
        "colab": {
          "base_uri": "https://localhost:8080/"
        },
        "id": "GSF6U6-KxKEo",
        "outputId": "85764875-af31-436f-99f7-ae4e2b2c3d9a"
      },
      "execution_count": null,
      "outputs": [
        {
          "output_type": "stream",
          "name": "stdout",
          "text": [
            "0.7257002099273276\n",
            "74.44\n",
            "0.6931471805599452\n"
          ]
        }
      ]
    },
    {
      "cell_type": "markdown",
      "source": [
        "**Expected outputs:**\n",
        "```\n",
        "0.7257002099273276\n",
        "74.44\n",
        "0.6931471805599452\n",
        "```"
      ],
      "metadata": {
        "id": "7DRSdfVLyrqJ"
      }
    },
    {
      "cell_type": "markdown",
      "source": [
        "# Gradient Descent\n",
        "\n",
        "Recall the gradient descent algorithm utilizes the gradient calculation:\n",
        "$$\\begin{align*}\n",
        "&\\text{repeat until convergence:} \\; \\lbrace \\\\\n",
        "&  \\; \\; \\;w_j = w_j -  \\alpha \\frac{\\partial J(\\mathbf{w},b)}{\\partial w_j} \\tag{1}  \\; & \\text{for j := 0..n-1} \\\\ \n",
        "&  \\; \\; \\;  \\; \\;b = b -  \\alpha \\frac{\\partial J(\\mathbf{w},b)}{\\partial b} \\\\\n",
        "&\\rbrace\n",
        "\\end{align*}$$\n",
        "\n",
        "The partial derivatives $\\frac{\\partial J(\\mathbf{w},b)}{\\partial w}$, $\\frac{\\partial J(\\mathbf{w},b)}{\\partial b}$ can be computed from equations (2) and (3) below.\n",
        "\n",
        "$$\n",
        "\\frac{\\partial J(\\mathbf{w},b)}{\\partial b}  = \\frac{1}{m} \\sum\\limits_{i = 0}^{m-1} (f_{\\mathbf{w},b}(\\mathbf{x}^{(i)}) - \\mathbf{y}^{(i)}) \\tag{2}\n",
        "$$\n",
        "$$\n",
        "\\frac{\\partial J(\\mathbf{w},b)}{\\partial w_j}  = \\frac{1}{m} \\sum\\limits_{i = 0}^{m-1} (f_{\\mathbf{w},b}(\\mathbf{x}^{(i)}) - \\mathbf{y}^{(i)})x_{j}^{(i)} \\tag{3}\n",
        "$$\n",
        "* m is the number of training examples in the dataset\n",
        "\n",
        "    \n",
        "*  $f_{\\mathbf{w},b}(x^{(i)})$ is the model's prediction, while $y^{(i)}$ is the actual label\n",
        "\n",
        "\n",
        "- **Note**: While this gradient looks identical to the linear regression gradient, the formula is actually different because linear and logistic regression have different definitions of $f_{\\mathbf{w},b}(x)$."
      ],
      "metadata": {
        "id": "q02rgkNVz4n9"
      }
    },
    {
      "cell_type": "markdown",
      "source": [
        "**Hint:** There are many ways to implement (2),(3) above for all $w_j$ and $b$. Here is an example pseudo code:\n",
        "- initialize variables to accumulate `dj_dw` and `dj_db`\n",
        "- for each example\n",
        "    - calculate the error for that example $g(\\mathbf{w} \\cdot \\mathbf{x}^{(i)} + b) - \\mathbf{y}^{(i)}$\n",
        "    - for each input value $x_{j}^{(i)}$ in this example,  \n",
        "        - multiply the error by the input  $x_{j}^{(i)}$, and add to the corresponding element of `dj_dw`. (equation 2 above)\n",
        "    - add the error to `dj_db` (equation 3 above)\n",
        "\n",
        "- divide `dj_db` and `dj_dw` by total number of examples (m)\n",
        "- note that $\\mathbf{x}^{(i)}$ in numpy `X[i,:]` or `X[i]`  and $x_{j}^{(i)}$ is `X[i,j]`"
      ],
      "metadata": {
        "id": "JwVwJYgn0YhV"
      }
    },
    {
      "cell_type": "code",
      "source": [
        "def compute_gradient_logistic(X, y, w, b): \n",
        "    \"\"\"\n",
        "    Computes the gradient for logistic regression \n",
        " \n",
        "    Args:\n",
        "      X (ndarray (m,n): Data, m examples with n features\n",
        "      y (ndarray (m,)): target values\n",
        "      w (ndarray (n,)): model parameters  \n",
        "      b (scalar)      : model parameter\n",
        "    Returns\n",
        "      dj_dw (ndarray (n,)): The gradient of the cost w.r.t. the parameters w. \n",
        "      dj_db (scalar)      : The gradient of the cost w.r.t. the parameter b. \n",
        "    \"\"\"\n",
        "    m,n = X.shape\n",
        "    dj_dw = np.zeros((n,))                           #(n,)\n",
        "    dj_db = 0.\n",
        "\n",
        "    ### START YOUR CODE HERE ###\n",
        "\n",
        "    for i in range(m):\n",
        "        f_wb_i = f_logis(X[i],w,b)                    #(n,)(n,)=scalar\n",
        "        err_i  = f_wb_i  - y[i]                       #scalar\n",
        "        for j in range(n):\n",
        "            dj_dw[j] = dj_dw[j] + err_i * X[i,j]      #scalar\n",
        "        dj_db = dj_db + err_i\n",
        "    dj_dw = dj_dw/m                                   #(n,)\n",
        "    dj_db = dj_db/m                                   #scalar\n",
        "\n",
        "    ### END YOUR CODE HERE ###\n",
        "\n",
        "    return dj_db, dj_dw"
      ],
      "metadata": {
        "id": "0tx6zVLyyrJU"
      },
      "execution_count": null,
      "outputs": []
    },
    {
      "cell_type": "markdown",
      "source": [
        "Run the code below to check your code."
      ],
      "metadata": {
        "id": "aDJ8X80luZSz"
      }
    },
    {
      "cell_type": "code",
      "source": [
        "X_tmp = np.array([[0.5, 1.5], [1,1], [1.5, 0.5], [3, 0.5], [2, 2], [1, 2.5]])\n",
        "y_tmp = np.array([0, 0, 0, 1, 1, 1])\n",
        "w_tmp = np.array([2.,3.])\n",
        "b_tmp = 1.\n",
        "dj_db_tmp, dj_dw_tmp = compute_gradient_logistic(X_tmp, y_tmp, w_tmp, b_tmp)\n",
        "print(\"Dummy data\")\n",
        "print(f\"dj_db: {dj_db_tmp}\" )\n",
        "print(f\"dj_dw: {dj_dw_tmp.tolist()}\" )\n",
        "\n",
        "w_tmp = np.zeros(X.shape[1])\n",
        "b_tmp = 1.\n",
        "dj_db_tmp, dj_dw_tmp = compute_gradient_logistic(X, y, w_tmp, b_tmp)\n",
        "print(\"Our data\")\n",
        "print(f\"dj_db: {dj_db_tmp}\" )\n",
        "print(f\"dj_dw: {dj_dw_tmp.tolist()}\" )"
      ],
      "metadata": {
        "colab": {
          "base_uri": "https://localhost:8080/"
        },
        "id": "DEs3Nn1ZxKCN",
        "outputId": "40342bef-5ceb-4972-8e12-864577e9411c"
      },
      "execution_count": null,
      "outputs": [
        {
          "output_type": "stream",
          "name": "stdout",
          "text": [
            "Dummy data\n",
            "dj_db: 0.49861806546328574\n",
            "dj_dw: [0.498333393278696, 0.49883942983996693]\n",
            "Our data\n",
            "dj_db: 0.251058578630005\n",
            "dj_dw: [-0.05735617031162473, 2.7293972046097448, -0.30300582833670936]\n"
          ]
        }
      ]
    },
    {
      "cell_type": "markdown",
      "source": [
        "**Expected outputs:**\n",
        "```\n",
        "Dummy data\n",
        "dj_db: 0.49861806546328574\n",
        "dj_dw: [0.498333393278696, 0.49883942983996693]\n",
        "Our data\n",
        "dj_db: 0.251058578630005\n",
        "dj_dw: [-0.05735617031162473, 2.7293972046097448, -0.30300582833670936]\n",
        "```"
      ],
      "metadata": {
        "id": "uKF0MV_31Cwz"
      }
    },
    {
      "cell_type": "markdown",
      "source": [
        "## Gradient Descent Algorithm\n",
        "\n",
        "The code implementing equation (1) above is implemented below."
      ],
      "metadata": {
        "id": "rbyOQgNE1h8X"
      }
    },
    {
      "cell_type": "code",
      "source": [
        "def gradient_descent(X, y, w_in, b_in, alpha, num_iters): \n",
        "    \"\"\"\n",
        "    Performs batch gradient descent\n",
        "    \n",
        "    Args:\n",
        "      X (ndarray (m,n)   : Data, m examples with n features\n",
        "      y (ndarray (m,))   : target values\n",
        "      w_in (ndarray (n,)): Initial values of model parameters\n",
        "      b_in (scalar)      : Initial values of model parameter\n",
        "      alpha (float)      : Learning rate\n",
        "      num_iters (scalar) : number of iterations to run gradient descent\n",
        "      \n",
        "    Returns:\n",
        "      w (ndarray (n,))   : Updated values of parameters\n",
        "      b (scalar)         : Updated value of parameter \n",
        "    \"\"\"\n",
        "\n",
        "    # An array to store cost J and w's at each iteration primarily for graphing later\n",
        "    J_history = []\n",
        "    w = copy.deepcopy(w_in)  # avoid modifying global w within function\n",
        "    b = b_in\n",
        "    \n",
        "    for i in range(num_iters):\n",
        "        # TODO: Calculate the gradient and update the parameters\n",
        "        # dj_db, dj_dw = # YOUR CODE HERE\n",
        "        dj_db, dj_dw = compute_gradient_logistic(X, y, w, b)\n",
        "\n",
        "        # TODO: Update Parameters using w, b, alpha and gradient\n",
        "        # w = # YOUR CODE HERE\n",
        "        # b = # YOUR CODE HERE\n",
        "        w = w - alpha * dj_dw\n",
        "        b = b - alpha * dj_db\n",
        "      \n",
        "        # Save cost J at each iteration\n",
        "        if i<100000:      # prevent resource exhaustion \n",
        "            J_history.append( compute_loss_logistic(X, y, w, b) )\n",
        "\n",
        "        # Print cost every at intervals 10 times or as many iterations if < 10\n",
        "        if i% math.ceil(num_iters / 10) == 0:\n",
        "            print(f\"Iteration {i:4d}: Cost {J_history[-1]}   \")\n",
        "        \n",
        "    return w, b, J_history  # return final w,b and J history for graphing"
      ],
      "metadata": {
        "id": "pemSo0_N1CTp"
      },
      "execution_count": null,
      "outputs": []
    },
    {
      "cell_type": "markdown",
      "source": [
        "Next pick an appropriate learning rate"
      ],
      "metadata": {
        "id": "-V211anfvFCx"
      }
    },
    {
      "cell_type": "code",
      "source": [
        "w_init  = np.zeros_like(X[0])\n",
        "b_init  = 0.\n",
        "iters = 1000\n",
        "\n",
        "# TODO: Pick the learning rate\n",
        "# alph = # YOUR CODE HERE\n",
        "alph = 1e-2\n",
        "\n",
        "w_out, b_out, J_hist = gradient_descent(X, y, w_init, b_init, alph, iters) \n",
        "print(f\"\\nupdated parameters: w:{w_out}, b:{b_out}\")\n",
        "\n",
        "# plot cost versus iteration  \n",
        "fig, ax = plt.subplots(figsize=(10, 6))\n",
        "ax.plot(J_hist)\n",
        "ax.set_title(\"Loss vs. iteration\")\n",
        "ax.set_ylabel('Loss')\n",
        "ax.set_xlabel('iteration step')\n",
        "ax.grid(linestyle='--')\n",
        "plt.show()\n",
        "plt.close('all')\n",
        "\n",
        "y_probas = []\n",
        "m,_ = X.shape\n",
        "for i in range(m):\n",
        "    y_proba = f_logis(X[i], w_out, b_out)\n",
        "    print(f\"prediction: {y_proba:0.2f}, target value: {y[i]}\")\n",
        "    y_probas.append(y_proba)\n",
        "y_probas = np.array(y_probas)"
      ],
      "metadata": {
        "colab": {
          "base_uri": "https://localhost:8080/",
          "height": 1000
        },
        "id": "_v6WHkhuxJ_Z",
        "outputId": "90a188c4-0dd6-4e01-ae3c-cd316b85936d"
      },
      "execution_count": null,
      "outputs": [
        {
          "output_type": "stream",
          "name": "stdout",
          "text": [
            "Iteration    0: Cost 0.6108320953416865   \n",
            "Iteration  100: Cost 0.2103284550986334   \n",
            "Iteration  200: Cost 0.19327586085605813   \n",
            "Iteration  300: Cost 0.18786514055681636   \n",
            "Iteration  400: Cost 0.18529203248958864   \n",
            "Iteration  500: Cost 0.1837498066836659   \n",
            "Iteration  600: Cost 0.18265570856149801   \n",
            "Iteration  700: Cost 0.1817777811447001   \n",
            "Iteration  800: Cost 0.18101165146713818   \n",
            "Iteration  900: Cost 0.18030643971096477   \n",
            "\n",
            "updated parameters: w:[ 0.528 -0.587  0.248], b:-0.30566704995050326\n"
          ]
        },
        {
          "output_type": "display_data",
          "data": {
            "text/plain": [
              "<Figure size 720x432 with 1 Axes>"
            ],
            "image/png": "[encoded data removed]"
          },
          "metadata": {
            "needs_background": "light"
          }
        },
        {
          "output_type": "stream",
          "name": "stdout",
          "text": [
            "prediction: 0.99, target value: 1\n",
            "prediction: 0.00, target value: 0\n",
            "prediction: 0.05, target value: 0\n",
            "prediction: 0.02, target value: 0\n",
            "prediction: 0.79, target value: 1\n",
            "prediction: 1.00, target value: 1\n",
            "prediction: 0.90, target value: 0\n",
            "prediction: 0.01, target value: 0\n",
            "prediction: 0.08, target value: 0\n",
            "prediction: 0.13, target value: 0\n",
            "prediction: 0.74, target value: 1\n",
            "prediction: 0.96, target value: 1\n",
            "prediction: 0.96, target value: 1\n",
            "prediction: 0.01, target value: 0\n",
            "prediction: 0.01, target value: 0\n",
            "prediction: 0.02, target value: 0\n",
            "prediction: 0.03, target value: 0\n",
            "prediction: 0.99, target value: 1\n",
            "prediction: 1.00, target value: 1\n",
            "prediction: 1.00, target value: 1\n",
            "prediction: 1.00, target value: 1\n",
            "prediction: 0.40, target value: 0\n",
            "prediction: 0.97, target value: 1\n",
            "prediction: 0.56, target value: 1\n",
            "prediction: 0.00, target value: 0\n"
          ]
        }
      ]
    },
    {
      "cell_type": "markdown",
      "source": [
        "**Expected learning curve:**\n",
        "\n",
        "Note that your learning curve can be slightly different, but still converge.\n",
        "![image.png](data:image/png;base64,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)"
      ],
      "metadata": {
        "id": "v_qLQiN32-YP"
      }
    },
    {
      "cell_type": "code",
      "source": [
        "def accuracy_score(y_probas, y_true):\n",
        "    \"\"\"\n",
        "    Calculate an accuracy for given predirected probabiliy\n",
        "    \n",
        "    Args:\n",
        "      y_probas (ndarray (m,)   : Predicted probability, ranged from [0, 1]\n",
        "      y (ndarray (m,))        : target values (0 or 1)\n",
        "      \n",
        "    Returns:\n",
        "      acc (scalar)     : Accuracy\n",
        "    \"\"\"\n",
        "    \n",
        "    # TODO: Convert from probability to 0 and 1 using the threshold of 0.5.\n",
        "    # Hint: You can use the array slicing in NumPy to assign the value 1\n",
        "    #       to the example with the proba >= 0.5.\n",
        "    # y_preds = # YOUR CODE HERE            # shape (m, )\n",
        "    y_preds = np.zeros(len(y_probas))\n",
        "    y_preds[y_probas>=0.5] = 1\n",
        "\n",
        "    # TODO: Compute accuracy score.\n",
        "    # Hint: You can use np.mean to compute this.\n",
        "    # acc = # YOUR CODE HERE \n",
        "    acc = np.mean(y_preds == y_true)\n",
        "\n",
        "    return acc"
      ],
      "metadata": {
        "id": "f8uAWbDH29wg"
      },
      "execution_count": 1,
      "outputs": []
    },
    {
      "cell_type": "code",
      "source": [
        "acc = accuracy_score(y_probas, y)\n",
        "print(f\"{acc=}\")"
      ],
      "metadata": {
        "colab": {
          "base_uri": "https://localhost:8080/"
        },
        "id": "Kd7JH4iq83C6",
        "outputId": "7b67d48b-cc1a-496e-fc9a-395f9b538464"
      },
      "execution_count": null,
      "outputs": [
        {
          "output_type": "stream",
          "name": "stdout",
          "text": [
            "acc=0.96\n"
          ]
        }
      ]
    },
    {
      "cell_type": "markdown",
      "source": [
        "**Expected outputs:**\n",
        "\n",
        "Your accuracy should be more than 90% (i.e., >= 0.90)"
      ],
      "metadata": {
        "id": "SK82ujK_-xmA"
      }
    },
    {
      "cell_type": "markdown",
      "source": [
        "# Extra Points (deadline: 27-Jan-2022 @ 23:55)\n",
        "\n",
        "* Add Polynomial Features\n",
        "* Add Feature Scaling\n",
        "* Tran a new model\n",
        "* Make prediction\n",
        "* Discuss in English with the supporting evidences (e.g., learning curve, predicted values, etc.) whether the polynomial features and/or the feature scaling help improve the model performance in terms of accuracy.\n"
      ],
      "metadata": {
        "id": "j6YIGxZEvuai"
      }
    },
    {
      "cell_type": "markdown",
      "source": [
        "# For Generate Materials in slides (NO need to read this)"
      ],
      "metadata": {
        "id": "4ldS9tqkuelI"
      }
    },
    {
      "cell_type": "markdown",
      "source": [
        "## Linear Regression"
      ],
      "metadata": {
        "id": "pkPZ1Gj0wlus"
      }
    },
    {
      "cell_type": "code",
      "source": [
        "# def f_linear(x, w, b): \n",
        "#     \"\"\"\n",
        "#     Predict using linear regression\n",
        "#     Args:\n",
        "#       x (ndarray): Shape (n,) example with multiple features\n",
        "#       w (ndarray): Shape (n,) model parameters   \n",
        "#       b (scalar):             model parameter \n",
        "      \n",
        "#     Returns:\n",
        "#       p (scalar):  prediction\n",
        "#     \"\"\"\n",
        "#     p = np.dot(x, w) + b\n",
        "#     return p"
      ],
      "metadata": {
        "id": "9HXpD4kPwluw"
      },
      "execution_count": null,
      "outputs": []
    },
    {
      "cell_type": "code",
      "source": [
        "# def compute_loss(X, y, w, b): \n",
        "#     \"\"\"\n",
        "#     Compute mean-squared-error (MSE) loss\n",
        "#     Args:\n",
        "#       X (ndarray (m,n)): Data, m examples with n features\n",
        "#       y (ndarray (m,)) : target values\n",
        "#       w (ndarray (n,)) : model parameters\n",
        "#       b (scalar)       : model parameter\n",
        "      \n",
        "#     Returns:\n",
        "#       loss (scalar): loss\n",
        "#     \"\"\"\n",
        "#     m = X.shape[0]\n",
        "#     loss = 0.0\n",
        "#     for i in range(m):\n",
        "#         f_wb_i = f_linear(X[i], w, b)          # (n,)(n,) = scalar (see np.dot)\n",
        "#         loss = loss + (f_wb_i - y[i])**2       # scalar\n",
        "#     loss = loss / (2 * m)                      # scalar\n",
        "#     return loss"
      ],
      "metadata": {
        "id": "UFki7n87wlux"
      },
      "execution_count": null,
      "outputs": []
    },
    {
      "cell_type": "code",
      "source": [
        "# def compute_gradient(X, y, w, b): \n",
        "#     \"\"\"\n",
        "#     Computes the gradient for linear regression\n",
        "#     Args:\n",
        "#       X (ndarray (m,n)): Data, m examples with n features\n",
        "#       y (ndarray (m,)) : target values\n",
        "#       w (ndarray (n,)) : model parameters\n",
        "#       b (scalar)       : model parameter\n",
        "      \n",
        "#     Returns:\n",
        "#       dj_dw (ndarray (n,)): The gradient of the cost w.r.t. the parameters w.\n",
        "#       dj_db (scalar):       The gradient of the cost w.r.t. the parameter b.\n",
        "#     \"\"\"\n",
        "#     m, n = X.shape           # (number of examples, number of features)\n",
        "#     dj_dw = np.zeros((n,))\n",
        "#     dj_db = 0.\n",
        "\n",
        "#     for i in range(m):\n",
        "#         # Compute an error for each example i\n",
        "#         err = f_linear(X[i], w, b) - y[i]\n",
        "#         # For each weight j\n",
        "#         for j in range(n):\n",
        "#             dj_dw[j] = dj_dw[j] + err * X[i, j]\n",
        "#         dj_db = dj_db + err\n",
        "#     dj_dw = dj_dw / m\n",
        "#     dj_db = dj_db / m\n",
        "\n",
        "#     return dj_db, dj_dw"
      ],
      "metadata": {
        "id": "oaR2Z9sGwlux"
      },
      "execution_count": null,
      "outputs": []
    },
    {
      "cell_type": "code",
      "source": [
        "# def gradient_descent(X, y, w_in, b_in, alpha, num_iters): \n",
        "#     \"\"\"\n",
        "#     Performs batch gradient descent to learn theta. Updates theta by taking \n",
        "#     num_iters gradient steps with learning rate alpha\n",
        "    \n",
        "#     Args:\n",
        "#       X (ndarray (m,n))   : Data, m examples with n features\n",
        "#       y (ndarray (m,))    : target values\n",
        "#       w_in (ndarray (n,)) : initial model parameters  \n",
        "#       b_in (scalar)       : initial model parameter\n",
        "#       alpha (float)       : Learning rate\n",
        "#       num_iters (int)     : number of iterations to run gradient descent\n",
        "      \n",
        "#     Returns:\n",
        "#       w (ndarray (n,))         : Updated values of parameters \n",
        "#       b (scalar)               : Updated value of parameter \n",
        "#       J_history (ndarray (n,)) : History of losses\n",
        "#       \"\"\"\n",
        "    \n",
        "#     # An array to store cost J and w's at each iteration primarily for graphing later\n",
        "#     J_history = []\n",
        "#     w = copy.deepcopy(w_in)  #avoid modifying global w within function\n",
        "#     b = b_in\n",
        "    \n",
        "#     for i in range(num_iters):\n",
        "\n",
        "#         # Calculate the gradient with `compute_gradient` function\n",
        "#         dj_db, dj_dw = compute_gradient(X, y, w, b)\n",
        "\n",
        "#         # Update Parameters using w, b, alpha and gradient\n",
        "#         w = w - alpha * dj_dw\n",
        "#         b = b - alpha * dj_db\n",
        "      \n",
        "#         # Save cost J at each iteration\n",
        "#         J_history.append(compute_loss(X, y, w, b))\n",
        "\n",
        "#         # Print cost every at intervals 10 times or as many iterations if < 10\n",
        "#         if i % math.ceil(num_iters / 10) == 0:\n",
        "#             print(f\"Iteration {i:4d}: Cost {J_history[-1]:8.2f}   \")\n",
        "        \n",
        "#     return w, b, J_history  # return final_w, final_b and J history"
      ],
      "metadata": {
        "id": "jE0wZk2Iwluy"
      },
      "execution_count": null,
      "outputs": []
    },
    {
      "cell_type": "code",
      "source": [
        "# # ** For generate materials in slides **\n",
        "\n",
        "# fig, ax = plt.subplots(1, n, figsize=(16, 4), sharey=True)\n",
        "# for i in range(len(ax)):\n",
        "#     ax[i].scatter(X[:,i],y)\n",
        "\n",
        "#     # select one feature\n",
        "#     _X = X[:,[i]]\n",
        "\n",
        "#     # initialize parameters\n",
        "#     initial_w = np.zeros(_X.shape[1], dtype=np.float32)\n",
        "#     initial_b = 0.\n",
        "\n",
        "#     # hyperparameter for training with gradient descent\n",
        "#     alpha = 1.0e-5\n",
        "#     iterations = 1000\n",
        "\n",
        "#     # run gradient descent \n",
        "#     w_final, b_final, J_hist = gradient_descent(_X, y, initial_w, initial_b,\n",
        "#                                                 alpha, iterations)\n",
        "#     print(f\"b,w found by gradient descent: {b_final:0.2f},{w_final} \")\n",
        "\n",
        "#     min_idx, max_idx = np.argmin(_X), np.argmax(_X)\n",
        "#     y_preds = f_linear(_X[[min_idx, max_idx]], w_final, b_final)\n",
        "#     display(y_preds)\n",
        "\n",
        "#     # visualize\n",
        "#     ax[i].scatter(_X,y)\n",
        "#     ax[i].plot(_X[[min_idx, max_idx]], y_preds)\n",
        "#     ax[i].grid(linestyle='--')\n",
        "#     ax[i].set_xlabel(X_features[i])\n",
        "# ax[0].set_ylabel(\"Final\")\n",
        "# plt.show()\n",
        "# plt.close('all')"
      ],
      "metadata": {
        "id": "g0qxFCEFWaPn"
      },
      "execution_count": null,
      "outputs": []
    },
    {
      "cell_type": "code",
      "source": [
        "# # ** For generate materials in slides **\n",
        "\n",
        "# # Generate an array of evenly spaced values between -10 and 10\n",
        "# z_tmp = np.arange(-10,11)\n",
        "\n",
        "# # Use the function implemented above to get the sigmoid values\n",
        "# y = sigmoid(z_tmp)\n",
        "\n",
        "# # Code for pretty printing the two arrays next to each other\n",
        "# np.set_printoptions(precision=3) \n",
        "# print(\"Input (z), Output (sigmoid(z))\")\n",
        "# print(np.c_[z_tmp, y])\n",
        "\n",
        "# # Plot z vs sigmoid(z)\n",
        "# fig,ax = plt.subplots(1,1,figsize=(8,4))\n",
        "# ax.plot(z_tmp, y, c=\"b\")\n",
        "\n",
        "# ax.set_title(\"Sigmoid function\")\n",
        "# ax.set_ylabel('sigmoid(z)')\n",
        "# ax.set_xlabel('z')\n",
        "# ax.grid()\n",
        "# plt.show()\n",
        "# plt.close('all')"
      ],
      "metadata": {
        "id": "H1-6ai9Pgt_l"
      },
      "execution_count": null,
      "outputs": []
    }
  ]
}