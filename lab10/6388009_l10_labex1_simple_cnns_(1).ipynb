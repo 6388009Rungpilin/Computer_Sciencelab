{
  "nbformat": 4,
  "nbformat_minor": 0,
  "metadata": {
    "colab": {
      "provenance": []
    },
    "kernelspec": {
      "name": "python3",
      "display_name": "Python 3"
    },
    "language_info": {
      "name": "python"
    }
  },
  "cells": [
    {
      "cell_type": "markdown",
      "source": [
        "# Prepare environment"
      ],
      "metadata": {
        "id": "fO9RJ5kJ9EjQ"
      }
    },
    {
      "cell_type": "code",
      "source": [
        "import numpy as np\n",
        "import torch\n",
        "import torchvision.transforms as T\n",
        "import torch.nn.functional as F\n",
        "from torch import nn\n",
        "from torch.utils.data import DataLoader, Subset\n",
        "from torchvision import datasets\n",
        "\n",
        "# Stratified split\n",
        "from sklearn.model_selection import train_test_split\n",
        "\n",
        "# PyTorch TensorBoard support\n",
        "from torch.utils.tensorboard import SummaryWriter\n",
        "from datetime import datetime\n",
        "\n",
        "import matplotlib\n",
        "import matplotlib.pyplot as plt\n",
        "font = {'size' : 18}\n",
        "matplotlib.rc('font', **font)"
      ],
      "metadata": {
        "id": "sS9Rj0G98-tu"
      },
      "execution_count": 1,
      "outputs": []
    },
    {
      "cell_type": "markdown",
      "source": [
        "# Prepare datasets"
      ],
      "metadata": {
        "id": "GXL0NsTo9B4P"
      }
    },
    {
      "cell_type": "code",
      "execution_count": 2,
      "metadata": {
        "id": "lWj21rIY5_jn",
        "colab": {
          "base_uri": "https://localhost:8080/"
        },
        "outputId": "33307c17-e0a9-4b54-ab8c-72b135550afb"
      },
      "outputs": [
        {
          "output_type": "stream",
          "name": "stdout",
          "text": [
            "Files already downloaded and verified\n",
            "Files already downloaded and verified\n"
          ]
        }
      ],
      "source": [
        "# Download training data from open datasets.\n",
        "train_ds = datasets.CIFAR10(\n",
        "    root=\"./data\",\n",
        "    train=True,\n",
        "    download=True,\n",
        "    transform=T.ToTensor(),\n",
        ")\n",
        "\n",
        "# Download test data from open datasets.\n",
        "test_ds = datasets.CIFAR10(\n",
        "    root=\"./data\",\n",
        "    train=False,\n",
        "    download=True,\n",
        "    transform=T.ToTensor(),\n",
        ")\n",
        "\n",
        "# Preparing for validaion test\n",
        "train_indices, valid_indices, _, _ = train_test_split(\n",
        "    range(len(train_ds)),\n",
        "    train_ds.targets,\n",
        "    test_size=10000\n",
        ")\n",
        "valid_ds = Subset(train_ds, valid_indices)\n",
        "train_ds = Subset(train_ds, train_indices)\n",
        "\n",
        "# Create data loaders\n",
        "batch_size = 64\n",
        "train_dl = DataLoader(train_ds, batch_size=batch_size, shuffle=True)\n",
        "valid_dl = DataLoader(valid_ds, batch_size=batch_size, shuffle=False)\n",
        "test_dl = DataLoader(test_ds, batch_size=batch_size, shuffle=False)\n",
        "\n",
        "# Class mapping\n",
        "classes = [\n",
        "    'Airplane',\n",
        "    'Automobile',\n",
        "    'Bird',\n",
        "    'Cat',\n",
        "    'Deer',\n",
        "    'Dog',\n",
        "    'Frog',\n",
        "    'Horse',\n",
        "    'Ship',\n",
        "    'Truck',\n",
        "]"
      ]
    },
    {
      "cell_type": "code",
      "source": [
        "# Report split sizes\n",
        "print(f'Training set: {len(train_ds)} examples')\n",
        "print(f'Validation set: {len(valid_ds)} examples')\n",
        "print(f'Test set: {len(test_ds)} examples')"
      ],
      "metadata": {
        "id": "EnUtlb3pfRtW",
        "colab": {
          "base_uri": "https://localhost:8080/"
        },
        "outputId": "30de9dfd-0974-4fde-d2ea-49143f4d4ccd"
      },
      "execution_count": 3,
      "outputs": [
        {
          "output_type": "stream",
          "name": "stdout",
          "text": [
            "Training set: 40000 examples\n",
            "Validation set: 10000 examples\n",
            "Test set: 10000 examples\n"
          ]
        }
      ]
    },
    {
      "cell_type": "markdown",
      "source": [
        "It is always a good idea to visualize the input and the label obtained from the DataLoader to make sure that the input data are as expected."
      ],
      "metadata": {
        "id": "lbgoCkUQvQqF"
      }
    },
    {
      "cell_type": "code",
      "source": [
        "# Get one batch of data\n",
        "for batch in train_dl:\n",
        "    imgs, lbls = batch\n",
        "    break\n",
        "\n",
        "print(imgs.shape)\n",
        "print(lbls.shape)"
      ],
      "metadata": {
        "id": "xHh4GmDuvdGq",
        "colab": {
          "base_uri": "https://localhost:8080/"
        },
        "outputId": "ea61ab81-a16e-418b-fc9a-eb7ded7f05ef"
      },
      "execution_count": 4,
      "outputs": [
        {
          "output_type": "stream",
          "name": "stdout",
          "text": [
            "torch.Size([64, 3, 32, 32])\n",
            "torch.Size([64])\n"
          ]
        }
      ]
    },
    {
      "cell_type": "code",
      "source": [
        "figure = plt.figure(figsize=(8, 8))\n",
        "cols, rows = 3, 3\n",
        "for i in range(1, cols * rows + 1):\n",
        "    sample_idx = torch.randint(len(imgs), size=(1,)).item()\n",
        "    img, label = imgs[sample_idx], lbls[sample_idx]\n",
        "    figure.add_subplot(rows, cols, i)\n",
        "    plt.title(classes[label])\n",
        "    plt.axis(\"off\")\n",
        "    plt.imshow(img.numpy().transpose(1,2,0))\n",
        "plt.show()"
      ],
      "metadata": {
        "id": "V6vguEdmwFil",
        "colab": {
          "base_uri": "https://localhost:8080/",
          "height": 488
        },
        "outputId": "2acb6fe4-9ac5-4f8e-b4ef-eee03969f12b"
      },
      "execution_count": 5,
      "outputs": [
        {
          "output_type": "display_data",
          "data": {
            "text/plain": [
              "<Figure size 576x576 with 9 Axes>"
            ],
            "image/png": "[encoded data removed]"
          },
          "metadata": {
            "needs_background": "light"
          }
        }
      ]
    },
    {
      "cell_type": "markdown",
      "source": [
        "# Create a model"
      ],
      "metadata": {
        "id": "aZkzds3X88Xe"
      }
    },
    {
      "cell_type": "code",
      "execution_count": 6,
      "metadata": {
        "id": "RlF7qNi_5_jp",
        "colab": {
          "base_uri": "https://localhost:8080/"
        },
        "outputId": "70c1ae75-41ad-42c9-bbcb-bc03cc9dfe9a"
      },
      "outputs": [
        {
          "output_type": "stream",
          "name": "stdout",
          "text": [
            "Using cpu device\n",
            "SimpleCNN(\n",
            "  (conv1): Conv2d(3, 6, kernel_size=(5, 5), stride=(1, 1))\n",
            "  (conv2): Conv2d(6, 16, kernel_size=(5, 5), stride=(1, 1))\n",
            "  (pool): MaxPool2d(kernel_size=2, stride=2, padding=0, dilation=1, ceil_mode=False)\n",
            "  (fc1): Linear(in_features=400, out_features=64, bias=True)\n",
            "  (fc2): Linear(in_features=64, out_features=32, bias=True)\n",
            "  (fc3): Linear(in_features=32, out_features=10, bias=True)\n",
            ")\n"
          ]
        }
      ],
      "source": [
        "# Get cpu or gpu device for training.\n",
        "device = \"cuda\" if torch.cuda.is_available() else \"cpu\"\n",
        "print(f\"Using {device} device\")\n",
        "\n",
        "# Define model\n",
        "#class SimpleCNN(nn.Module):\n",
        "    #def __init__(self):\n",
        "       # YOUR CODE HERE\n",
        "       #super().__init__()\n",
        "       #self.flattten = nn.Flatten()\n",
        "       #self.linear_relu_stack = nn.Sequential(\n",
        "            #nn.Linear(28*28, 512),\n",
        "            #nn.ReLU(),\n",
        "            #nn.Linear(512,512),\n",
        "            #nn.ReLU(),\n",
        "            #nn.Linear(512,10),\n",
        "        #)\n",
        "\n",
        "  #def forward(self, x):\n",
        "        #out = # YOUR CODE HERE\n",
        "        #x = self.flatten(x) #order infomation\n",
        "        #out = self.linear_rule_stack(x)\n",
        "        #return out\n",
        "#class SimpleCNN(nn.Module):\n",
        "    #def __init__(self):\n",
        "        #super().__init__()\n",
        "        #self.conv1 = nn.Conv2d(in_channels=3, out_channels=16, kernel_size=5)\n",
        "        #self.conv2 = nn.Conv2d(in_channels=6, out_channels=16, kernel_size=3)\n",
        "        #self.pool = nn.MaxPool2d(kernel_size=2, stride=2) \n",
        "        #self.fc1 = nn.Linear(16 * 5 * 5, 64)\n",
        "        #self.fc2 = nn.Linear(128, 10)\n",
        "        #self.fc3 = nn.Linear(32, 10)\n",
        "    #def forward(self, x):\n",
        "        #x = F.relu(self.conv1(x))\n",
        "        #x = self.pool(F.relu(self.conv1(x)))\n",
        "        #x = self.pool(F.relu(self.conv2(x)))\n",
        "        #x = x.view(-1, 16*5*5)\n",
        "        #x = F.relu(self.fc1(x))\n",
        "        #x = F.relu(self.fc2(x))\n",
        "        #out = self.fc3(x)\n",
        "        #return out\n",
        "#model = SimpleCNN().to(device)\n",
        "#print(model)\n",
        "# Get cpu or gpu device for training.\n",
        "# Define model\n",
        "class SimpleCNN(nn.Module):\n",
        "    def __init__(self):\n",
        "        super().__init__()\n",
        "        # YOUR CODE HERE\n",
        "        self.conv1 = nn.Conv2d(in_channels=3, out_channels=6, kernel_size=5)\n",
        "        self.conv2 = nn.Conv2d(in_channels=6, out_channels=16, kernel_size=5)\n",
        "        self.pool = nn.MaxPool2d(kernel_size=2, stride=2) \n",
        "        self.fc1 = nn.Linear(16 * 5 * 5, 64)\n",
        "        self.fc2 = nn.Linear(64, 32)\n",
        "        self.fc3 = nn.Linear(32, 10)\n",
        "\n",
        "    def forward(self, x):\n",
        "        # out = # YOUR CODE HERE\n",
        "        x = self.pool(F.relu(self.conv1(x)))\n",
        "        x = self.pool(F.relu(self.conv2(x)))\n",
        "        x = x.view(-1, 16*5*5)\n",
        "        x = F.relu(self.fc1(x))\n",
        "        x = F.relu(self.fc2(x))\n",
        "        out = self.fc3(x)\n",
        "        return out\n",
        "\n",
        "model = SimpleCNN().to(device)\n",
        "print(model)"
      ]
    },
    {
      "cell_type": "markdown",
      "source": [
        "Once you have created a model, it is always a good idea to try to process the input data from the DataLoader to make sure that we can train the model."
      ],
      "metadata": {
        "id": "8Q4vj2-zx1n6"
      }
    },
    {
      "cell_type": "code",
      "source": [
        "# Get one batch of data\n",
        "for batch in train_dl:\n",
        "    imgs, lbls = batch\n",
        "    break\n",
        "\n",
        "preds = SimpleCNN().to(device)\n",
        "print(preds)\n"
      ],
      "metadata": {
        "id": "JGWRQskQx-FF",
        "colab": {
          "base_uri": "https://localhost:8080/"
        },
        "outputId": "d996f9bb-0991-4988-e6e6-407cea289459"
      },
      "execution_count": 7,
      "outputs": [
        {
          "output_type": "stream",
          "name": "stdout",
          "text": [
            "SimpleCNN(\n",
            "  (conv1): Conv2d(3, 6, kernel_size=(5, 5), stride=(1, 1))\n",
            "  (conv2): Conv2d(6, 16, kernel_size=(5, 5), stride=(1, 1))\n",
            "  (pool): MaxPool2d(kernel_size=2, stride=2, padding=0, dilation=1, ceil_mode=False)\n",
            "  (fc1): Linear(in_features=400, out_features=64, bias=True)\n",
            "  (fc2): Linear(in_features=64, out_features=32, bias=True)\n",
            "  (fc3): Linear(in_features=32, out_features=10, bias=True)\n",
            ")\n"
          ]
        }
      ]
    },
    {
      "cell_type": "markdown",
      "metadata": {
        "id": "XyebIUFG5_jq"
      },
      "source": [
        "# Train a model"
      ]
    },
    {
      "cell_type": "code",
      "execution_count": 8,
      "metadata": {
        "id": "-VDPtHxc5_jq"
      },
      "outputs": [],
      "source": [
        "# Specify loss\n",
        "# Note: Make sure to check the following when choosing the loss\n",
        "#   1. the label format of each loss (one-hot, ordinal, etc.)\n",
        "#   2. classification or regression\n",
        "loss_fn = nn.CrossEntropyLoss()"
      ]
    },
    {
      "cell_type": "code",
      "source": [
        "# Specify optimizer\n",
        "# e.g., SGD, Adam, RMSProp, etc.\n",
        "optimizer = torch.optim.Adam(model.parameters(), lr=1e-3)"
      ],
      "metadata": {
        "id": "u28VQNdHwjoZ"
      },
      "execution_count": 9,
      "outputs": []
    },
    {
      "cell_type": "code",
      "execution_count": 10,
      "metadata": {
        "id": "8XGl4Q8V5_jr"
      },
      "outputs": [],
      "source": [
        "def train_one_epoch(dataloader, model, loss_fn, optimizer):\n",
        "    # Size of the dataset\n",
        "    size = len(dataloader.dataset)\n",
        "\n",
        "    # Training mode\n",
        "    model.train()\n",
        "\n",
        "    # Keep track of the loss\n",
        "    running_loss = 0.\n",
        "    last_loss = 0.\n",
        "\n",
        "    # We use enumerate to track the batch index\n",
        "    for i, batch in enumerate(dataloader):\n",
        "        X, y = batch\n",
        "        X, y = X.to(device), y.to(device)\n",
        "\n",
        "        # Zeros the optimizer's gradient\n",
        "        optimizer.zero_grad()\n",
        "\n",
        "        # Prediction\n",
        "        pred = model(X)\n",
        "\n",
        "        # Compute loss\n",
        "        loss = loss_fn(pred, y)\n",
        "\n",
        "        # Backpropagation\n",
        "        loss.backward()  # calculate the backward gradients\n",
        "        optimizer.step()  # adjust model's weights based on the observed gradients\n",
        "\n",
        "        # Keep track of the loss\n",
        "        running_loss += loss.item()\n",
        "        if (i+1) % 50 == 0:\n",
        "            last_loss = running_loss / 50\n",
        "            current = (i + 1) * len(X)\n",
        "            print(f\"loss: {last_loss:>7f}  [{current:>5d}/{size:>5d}]\")\n",
        "            running_loss = 0."
      ]
    },
    {
      "cell_type": "code",
      "execution_count": 11,
      "metadata": {
        "id": "Gtl9HK4O5_jr"
      },
      "outputs": [],
      "source": [
        "def test(dataloader, model, loss_fn):\n",
        "    size = len(dataloader.dataset)\n",
        "    num_batches = len(dataloader)\n",
        "\n",
        "    # Test mode\n",
        "    model.eval()\n",
        "\n",
        "    # Predict on test set\n",
        "    loss, correct = 0, 0\n",
        "    with torch.no_grad():\n",
        "        for X, y in dataloader:\n",
        "            X, y = X.to(device), y.to(device)\n",
        "            # Prediction\n",
        "            pred = model(X)\n",
        "            y_pred = pred.argmax(1)\n",
        "            # Compute loss\n",
        "            loss += loss_fn(pred, y).item()\n",
        "            # Correct predictions\n",
        "            correct += (y_pred == y).type(torch.float).sum().item()\n",
        "\n",
        "    # Average loss\n",
        "    loss /= num_batches\n",
        "\n",
        "    # Accuracy\n",
        "    accuracy = correct / size\n",
        "\n",
        "    return loss, accuracy"
      ]
    },
    {
      "cell_type": "markdown",
      "metadata": {
        "id": "Jp0BCKNG5_jr"
      },
      "source": [
        "The training process is conducted over several iterations (*epochs*). During each epoch, the model learns\n",
        "parameters to make better predictions. We print the model's accuracy and loss at each epoch; we'd like to see the\n",
        "accuracy increase and the loss decrease with every epoch.\n",
        "We also keep track of the validation loss, and save the model that perform best on the validation set.\n",
        "\n"
      ]
    },
    {
      "cell_type": "code",
      "execution_count": 12,
      "metadata": {
        "id": "IyFw_NQA5_jr",
        "colab": {
          "base_uri": "https://localhost:8080/"
        },
        "outputId": "b30c0b46-2805-46d5-a0f9-809c854c1cd3"
      },
      "outputs": [
        {
          "output_type": "stream",
          "name": "stdout",
          "text": [
            "Epoch 1\n",
            "-------------------------------\n",
            "loss: 2.285712  [ 3200/40000]\n",
            "loss: 2.156596  [ 6400/40000]\n",
            "loss: 2.043499  [ 9600/40000]\n",
            "loss: 1.986144  [12800/40000]\n",
            "loss: 1.931152  [16000/40000]\n",
            "loss: 1.860561  [19200/40000]\n",
            "loss: 1.818785  [22400/40000]\n",
            "loss: 1.774515  [25600/40000]\n",
            "loss: 1.734314  [28800/40000]\n",
            "loss: 1.734010  [32000/40000]\n",
            "loss: 1.690514  [35200/40000]\n",
            "loss: 1.671576  [38400/40000]\n",
            "Saved best model to model_best_vloss.pth\n",
            "Epoch 2\n",
            "-------------------------------\n",
            "loss: 1.656915  [ 3200/40000]\n",
            "loss: 1.639715  [ 6400/40000]\n",
            "loss: 1.595314  [ 9600/40000]\n",
            "loss: 1.622374  [12800/40000]\n",
            "loss: 1.620350  [16000/40000]\n",
            "loss: 1.584128  [19200/40000]\n",
            "loss: 1.592478  [22400/40000]\n",
            "loss: 1.597454  [25600/40000]\n",
            "loss: 1.582667  [28800/40000]\n",
            "loss: 1.555323  [32000/40000]\n",
            "loss: 1.520788  [35200/40000]\n",
            "loss: 1.553425  [38400/40000]\n",
            "Saved best model to model_best_vloss.pth\n",
            "Epoch 3\n",
            "-------------------------------\n",
            "loss: 1.531428  [ 3200/40000]\n",
            "loss: 1.532803  [ 6400/40000]\n",
            "loss: 1.508317  [ 9600/40000]\n",
            "loss: 1.507531  [12800/40000]\n",
            "loss: 1.517477  [16000/40000]\n",
            "loss: 1.497565  [19200/40000]\n",
            "loss: 1.474673  [22400/40000]\n",
            "loss: 1.512678  [25600/40000]\n",
            "loss: 1.465926  [28800/40000]\n",
            "loss: 1.519929  [32000/40000]\n",
            "loss: 1.469251  [35200/40000]\n",
            "loss: 1.459097  [38400/40000]\n",
            "Saved best model to model_best_vloss.pth\n",
            "Epoch 4\n",
            "-------------------------------\n",
            "loss: 1.432278  [ 3200/40000]\n",
            "loss: 1.422013  [ 6400/40000]\n",
            "loss: 1.474035  [ 9600/40000]\n",
            "loss: 1.437134  [12800/40000]\n",
            "loss: 1.444006  [16000/40000]\n",
            "loss: 1.411698  [19200/40000]\n",
            "loss: 1.437696  [22400/40000]\n",
            "loss: 1.392285  [25600/40000]\n",
            "loss: 1.392969  [28800/40000]\n",
            "loss: 1.441726  [32000/40000]\n",
            "loss: 1.411086  [35200/40000]\n",
            "loss: 1.397115  [38400/40000]\n",
            "Saved best model to model_best_vloss.pth\n",
            "Epoch 5\n",
            "-------------------------------\n",
            "loss: 1.417867  [ 3200/40000]\n",
            "loss: 1.373623  [ 6400/40000]\n",
            "loss: 1.397959  [ 9600/40000]\n",
            "loss: 1.347808  [12800/40000]\n",
            "loss: 1.374007  [16000/40000]\n",
            "loss: 1.385582  [19200/40000]\n",
            "loss: 1.380462  [22400/40000]\n",
            "loss: 1.378334  [25600/40000]\n",
            "loss: 1.341860  [28800/40000]\n",
            "loss: 1.347700  [32000/40000]\n",
            "loss: 1.381035  [35200/40000]\n",
            "loss: 1.347624  [38400/40000]\n",
            "Saved best model to model_best_vloss.pth\n",
            "Done!\n"
          ]
        }
      ],
      "source": [
        "epochs = 5\n",
        "best_vloss = 100000.\n",
        "hist = {\n",
        "    'train_loss': [],\n",
        "    'train_acc': [],\n",
        "    'val_loss': [],\n",
        "    'val_acc': [],\n",
        "}\n",
        "\n",
        "for epoch in range(epochs):\n",
        "    print(f\"Epoch {epoch+1}\\n-------------------------------\")\n",
        "    train_one_epoch(train_dl, model, loss_fn, optimizer)\n",
        "    train_loss, train_acc = test(train_dl, model, loss_fn)\n",
        "    val_loss, val_acc = test(valid_dl, model, loss_fn)\n",
        "\n",
        "    # History for learning curve\n",
        "    hist['train_loss'].append(train_loss)\n",
        "    hist['train_acc'].append(train_acc)\n",
        "    hist['val_loss'].append(val_loss)\n",
        "    hist['val_acc'].append(val_acc)\n",
        "\n",
        "    # Track best performance, and save the model's state\n",
        "    if val_loss < best_vloss:\n",
        "        best_vloss = val_loss\n",
        "        torch.save(model.state_dict(), 'model_best_vloss.pth')\n",
        "        print('Saved best model to model_best_vloss.pth')\n",
        "print(\"Done!\")"
      ]
    },
    {
      "cell_type": "code",
      "source": [
        "fig, ax = plt.subplots(figsize=(8,6))\n",
        "ax.plot(hist['train_loss'], label='train')\n",
        "ax.plot(hist['val_loss'], label='valid')\n",
        "ax.set_ylabel('Loss')\n",
        "ax.set_xlabel('Epochs')\n",
        "plt.legend()\n",
        "plt.show()\n",
        "\n",
        "fig, ax = plt.subplots(figsize=(8,6))\n",
        "ax.plot(hist['train_acc'], label='train')\n",
        "ax.plot(hist['val_acc'], label='valid')\n",
        "ax.set_ylabel('Accuracy')\n",
        "ax.set_xlabel('Epochs')\n",
        "plt.legend()\n",
        "plt.show()\n",
        "\n",
        "plt.close('all')"
      ],
      "metadata": {
        "id": "fHu5oqzTujik",
        "colab": {
          "base_uri": "https://localhost:8080/",
          "height": 791
        },
        "outputId": "d9aace99-8fcd-44f4-9d24-5f5cc6f59be7"
      },
      "execution_count": 13,
      "outputs": [
        {
          "output_type": "display_data",
          "data": {
            "text/plain": [
              "<Figure size 576x432 with 1 Axes>"
            ],
            "image/png": "[encoded data removed]"
          },
          "metadata": {
            "needs_background": "light"
          }
        },
        {
          "output_type": "display_data",
          "data": {
            "text/plain": [
              "<Figure size 576x432 with 1 Axes>"
            ],
            "image/png": "[encoded data removed]"
          },
          "metadata": {
            "needs_background": "light"
          }
        }
      ]
    },
    {
      "cell_type": "markdown",
      "metadata": {
        "id": "LLzLQsvR5_jr"
      },
      "source": [
        "# Load Best Model on Validation Set\n",
        "\n"
      ]
    },
    {
      "cell_type": "code",
      "execution_count": 14,
      "metadata": {
        "id": "x7Ny0BYO5_jr",
        "colab": {
          "base_uri": "https://localhost:8080/"
        },
        "outputId": "46b7bfb7-03c4-4d17-c244-333a0b3ad5d8"
      },
      "outputs": [
        {
          "output_type": "execute_result",
          "data": {
            "text/plain": [
              "<All keys matched successfully>"
            ]
          },
          "metadata": {},
          "execution_count": 14
        }
      ],
      "source": [
        "model_best = SimpleCNN().to(device)\n",
        "model_best.load_state_dict(torch.load(\"model_best_vloss.pth\"))"
      ]
    },
    {
      "cell_type": "markdown",
      "source": [
        "# Evaluate on the test set"
      ],
      "metadata": {
        "id": "xrGN_zf5sm64"
      }
    },
    {
      "cell_type": "markdown",
      "metadata": {
        "id": "Lmz2wdJv5_jr"
      },
      "source": [
        "Predict on one example.\n",
        "\n"
      ]
    },
    {
      "cell_type": "code",
      "execution_count": 15,
      "metadata": {
        "id": "h-BRbrSn5_js",
        "colab": {
          "base_uri": "https://localhost:8080/"
        },
        "outputId": "86f1d09f-4117-44a5-8353-721e00d900e8"
      },
      "outputs": [
        {
          "output_type": "stream",
          "name": "stdout",
          "text": [
            "Predicted: \"Cat\", Actual: \"Cat\"\n"
          ]
        }
      ],
      "source": [
        "model_best.eval()\n",
        "\n",
        "# Get one batch of data\n",
        "for batch in test_dl:\n",
        "    imgs, lbls = batch\n",
        "    break\n",
        "\n",
        "X, y = imgs[0:1].to(device), lbls[0:1].to(device)\n",
        "with torch.no_grad():\n",
        "    pred = model_best(X)\n",
        "    predicted, actual = classes[pred[0].argmax(0)], classes[y]\n",
        "    print(f'Predicted: \"{predicted}\", Actual: \"{actual}\"')"
      ]
    },
    {
      "cell_type": "markdown",
      "source": [
        "Predict on the whole test set."
      ],
      "metadata": {
        "id": "IEtEOeChsXlB"
      }
    },
    {
      "cell_type": "code",
      "source": [
        "# Use the best model on the validation set\n",
        "test_loss, test_acc = test(test_dl, model_best, loss_fn)\n",
        "print(f\"Test: loss={test_loss:>8f}, acc={(100*test_acc):>0.1f}%\")"
      ],
      "metadata": {
        "id": "uvcTf5Ma97hc",
        "colab": {
          "base_uri": "https://localhost:8080/"
        },
        "outputId": "14cdfd7f-b3ec-4c12-cb93-d87d6752b95a"
      },
      "execution_count": 16,
      "outputs": [
        {
          "output_type": "stream",
          "name": "stdout",
          "text": [
            "Test: loss=1.346309, acc=50.9%\n"
          ]
        }
      ]
    },
    {
      "cell_type": "code",
      "source": [
        "# Use the latest model\n",
        "# Note: the latest model might be different from the best on validation set\n",
        "test_loss, test_acc = test(test_dl, model, loss_fn)\n",
        "print(f\"Test: loss={test_loss:>8f}, acc={(100*test_acc):>0.1f}%\")"
      ],
      "metadata": {
        "id": "gGemt3Dj7d-c",
        "colab": {
          "base_uri": "https://localhost:8080/"
        },
        "outputId": "66fbca01-3c25-4922-b7cb-8bdbcc57050e"
      },
      "execution_count": 17,
      "outputs": [
        {
          "output_type": "stream",
          "name": "stdout",
          "text": [
            "Test: loss=1.346309, acc=50.9%\n"
          ]
        }
      ]
    },
    {
      "cell_type": "code",
      "source": [],
      "metadata": {
        "id": "66o16eiCUZtv"
      },
      "execution_count": 17,
      "outputs": []
    }
  ]
}